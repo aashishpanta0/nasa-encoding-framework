{
 "cells": [
  {
   "cell_type": "code",
   "execution_count": 12,
   "metadata": {},
   "outputs": [
    {
     "name": "stdout",
     "output_type": "stream",
     "text": [
      "(2160,)\n",
      "8640\n",
      "(2160,)\n"
     ]
    },
    {
     "ename": "OSError",
     "evalue": "[Errno 22] Invalid argument: \"face-<_io.BufferedReader name='face-0-depth-0'>-depth-1\"",
     "output_type": "error",
     "traceback": [
      "\u001b[1;31m---------------------------------------------------------------------------\u001b[0m",
      "\u001b[1;31mOSError\u001b[0m                                   Traceback (most recent call last)",
      "\u001b[1;32mf:\\Workspace\\nasa\\nasa-encoding-framework\\notebooks\\visualize-faces.ipynb Cell 1'\u001b[0m in \u001b[0;36m<cell line: 9>\u001b[1;34m()\u001b[0m\n\u001b[0;32m      <a href='vscode-notebook-cell:/f%3A/Workspace/nasa/nasa-encoding-framework/notebooks/visualize-faces.ipynb#ch0000000?line=8'>9</a>\u001b[0m \u001b[39mfor\u001b[39;00m f \u001b[39min\u001b[39;00m \u001b[39mrange\u001b[39m(\u001b[39m0\u001b[39m, \u001b[39m1\u001b[39m):\n\u001b[0;32m     <a href='vscode-notebook-cell:/f%3A/Workspace/nasa/nasa-encoding-framework/notebooks/visualize-faces.ipynb#ch0000000?line=9'>10</a>\u001b[0m   \u001b[39mfor\u001b[39;00m d \u001b[39min\u001b[39;00m \u001b[39mrange\u001b[39m(\u001b[39m0\u001b[39m, \u001b[39m90\u001b[39m):\n\u001b[1;32m---> <a href='vscode-notebook-cell:/f%3A/Workspace/nasa/nasa-encoding-framework/notebooks/visualize-faces.ipynb#ch0000000?line=10'>11</a>\u001b[0m     \u001b[39mwith\u001b[39;00m \u001b[39mopen\u001b[39;49m(\u001b[39m'\u001b[39;49m\u001b[39mface-\u001b[39;49m\u001b[39m'\u001b[39;49m \u001b[39m+\u001b[39;49m \u001b[39mrepr\u001b[39;49m(f) \u001b[39m+\u001b[39;49m \u001b[39m'\u001b[39;49m\u001b[39m-depth-\u001b[39;49m\u001b[39m'\u001b[39;49m \u001b[39m+\u001b[39;49m \u001b[39mrepr\u001b[39;49m(d), \u001b[39m'\u001b[39;49m\u001b[39mrb\u001b[39;49m\u001b[39m'\u001b[39;49m) \u001b[39mas\u001b[39;00m f:\n\u001b[0;32m     <a href='vscode-notebook-cell:/f%3A/Workspace/nasa/nasa-encoding-framework/notebooks/visualize-faces.ipynb#ch0000000?line=11'>12</a>\u001b[0m       buf \u001b[39m=\u001b[39m f\u001b[39m.\u001b[39mread(\u001b[39mbytes\u001b[39m)\n\u001b[0;32m     <a href='vscode-notebook-cell:/f%3A/Workspace/nasa/nasa-encoding-framework/notebooks/visualize-faces.ipynb#ch0000000?line=12'>13</a>\u001b[0m       dt \u001b[39m=\u001b[39m np\u001b[39m.\u001b[39mdtype(\u001b[39m'\u001b[39m\u001b[39m<f\u001b[39m\u001b[39m'\u001b[39m)\n",
      "\u001b[1;31mOSError\u001b[0m: [Errno 22] Invalid argument: \"face-<_io.BufferedReader name='face-0-depth-0'>-depth-1\""
     ]
    }
   ],
   "source": [
    "import numpy as np\n",
    "import os\n",
    "\n",
    "os.chdir('F:/Workspace/nasa/nasa-encoding-framework/idx2-test/build/Release')\n",
    "\n",
    "bytes = 4 * 2160\n",
    "array = np.empty([90, 2160], dtype=float, order='C')\n",
    "\n",
    "for f in range(0, 1):\n",
    "  for d in range(0, 90):\n",
    "    with open('face-' + repr(f) + '-depth-' + repr(d), 'rb') as f:\n",
    "      buf = f.read(bytes)\n",
    "      dt = np.dtype('<f')\n",
    "      #dt = dt.newbyteorder('<')\n",
    "      print(array[d].shape)\n",
    "      print(len(buf))\n",
    "      buf_array = np.frombuffer(buf, dtype=dt)\n",
    "      print(buf_array.shape)"
   ]
  }
 ],
 "metadata": {
  "kernelspec": {
   "display_name": "Python 3.10.0 64-bit",
   "language": "python",
   "name": "python3"
  },
  "language_info": {
   "codemirror_mode": {
    "name": "ipython",
    "version": 3
   },
   "file_extension": ".py",
   "mimetype": "text/x-python",
   "name": "python",
   "nbconvert_exporter": "python",
   "pygments_lexer": "ipython3",
   "version": "3.10.0"
  },
  "orig_nbformat": 4,
  "vscode": {
   "interpreter": {
    "hash": "4da9a445269eaf7644d508d1b9c6a8048325acbe8141c1a0f1b98c2b970b1f1d"
   }
  }
 },
 "nbformat": 4,
 "nbformat_minor": 2
}
