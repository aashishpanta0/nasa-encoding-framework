{
 "cells": [
  {
   "cell_type": "markdown",
   "metadata": {},
   "source": [
    "# NASA demo template"
   ]
  },
  {
   "cell_type": "code",
   "execution_count": 1,
   "metadata": {},
   "outputs": [
    {
     "data": {
      "text/html": [
       "<style>.container { width:100% !important; }</style>"
      ],
      "text/plain": [
       "<IPython.core.display.HTML object>"
      ]
     },
     "metadata": {},
     "output_type": "display_data"
    },
    {
     "data": {
      "text/html": [
       "<style>.custom-slider .bk-input-group {height: 400px;}</style>"
      ],
      "text/plain": [
       "<IPython.core.display.HTML object>"
      ]
     },
     "metadata": {},
     "output_type": "display_data"
    },
    {
     "data": {
      "text/html": [
       "<style>.small-custom-slider .bk-input-group {height: 200px;}</style>"
      ],
      "text/plain": [
       "<IPython.core.display.HTML object>"
      ]
     },
     "metadata": {},
     "output_type": "display_data"
    }
   ],
   "source": [
    "from IPython.display import display, HTML\n",
    "display(HTML(\"<style>.container { width:100% !important; }</style>\"))\n",
    "display(HTML('<style>.custom-slider .bk-input-group {height: 400px;}</style>'))\n",
    "display(HTML('<style>.small-custom-slider .bk-input-group {height: 200px;}</style>'))\n",
    "\n",
    "#slider = pnw.FloatSlider(start=-0.5, end=0.5, value=0,  orientation='vertical', css_classes=[\"custom-slider\"] )"
   ]
  },
  {
   "cell_type": "code",
   "execution_count": 2,
   "metadata": {},
   "outputs": [],
   "source": [
    "import numpy as np\n",
    "import matplotlib.pyplot as plt\n",
    "import matplotlib.gridspec as gs\n",
    "from matplotlib.animation import FuncAnimation\n",
    "import concurrent.futures\n",
    "from IPython.display import clear_output\n",
    "from IPython.utils import io\n",
    "# from ipywidgets import interact, interactive, fixed, interact_manual\n",
    "from ipywidgets import *"
   ]
  },
  {
   "cell_type": "code",
   "execution_count": 3,
   "metadata": {},
   "outputs": [],
   "source": [
    "%%capture\n",
    "from OpenVisus import *"
   ]
  },
  {
   "cell_type": "code",
   "execution_count": 4,
   "metadata": {},
   "outputs": [],
   "source": [
    "%%capture\n",
    "colormaps = ['viridis', 'plasma', 'inferno', 'magma', 'cividis','ocean', 'gist_earth', 'terrain', 'gist_stern',\n",
    "             'gnuplot', 'gnuplot2', 'CMRmap', 'cubehelix', 'brg',\n",
    "             'gist_rainbow', 'rainbow', 'jet', 'turbo', 'nipy_spectral',\n",
    "             'gist_ncar']"
   ]
  },
  {
   "cell_type": "code",
   "execution_count": 5,
   "metadata": {},
   "outputs": [],
   "source": [
    "%%capture\n",
    "def Assert(cond):\n",
    "    if not cond:\n",
    "        raise Exception(\"Assert failed\")\n",
    "\n",
    "class CachedDataset(PyDataset):\n",
    "    \n",
    "    # constructor\n",
    "    def __init__(self, args):\n",
    "        self.local_filename=os.path.abspath(args[\"local\"]).replace(\"\\\\\",\"/\")\n",
    "        self.remote_url=args[\"url\"]\n",
    "        self.remote_access_type = args[\"access\"]\n",
    "        self.description=args[\"description\"]\n",
    "        \n",
    "        super().__init__(LoadDatasetCpp(self.remote_url))\n",
    "        \n",
    "        self.num_blocks = len(self.getFields()) * self.getTotalNumberOfBlocks() * len(self.getTimesteps().asVector())\n",
    "        self.num_blocks_cached = 0\n",
    "\n",
    "        self.stop_thread=False\n",
    "        self.thread=None\n",
    "        \n",
    "        self.progress=None\n",
    "        self.progress_display=None\n",
    "        \n",
    "    def __del__(self):\n",
    "        self.stopCaching()   \n",
    "        \n",
    "    # createAccess\n",
    "    def createAccess(self, ):\n",
    "        \n",
    "        access_config=\"\"\"\n",
    "            <access type='multiplex'>\n",
    "                    <access type='disk' chmod='rw' url='file://{}' />\n",
    "                    <access type='{}' url='{}' chmod=\"r\" /> \n",
    "            </access>  \n",
    "        \"\"\".format(\n",
    "            self.local_filename.replace(\"&\",\"&amp;\"),\n",
    "            self.remote_access_type,\n",
    "            self.remote_url.replace(\"&\",\"&amp;\")) \n",
    "        \n",
    "        # print(\"Creating access\",access_config)\n",
    "\n",
    "        access= self.createAccessForBlockQuery(StringTree.fromString(access_config));\n",
    "\n",
    "        # at this point the cache is enabled with the new local idx file\n",
    "        Assert(os.path.isfile(self.local_filename));\n",
    "\n",
    "        return access   \n",
    "\n",
    "    # startCaching\n",
    "    def startCaching(self, background=True):\n",
    "        \n",
    "        if background:\n",
    "            self.thread = threading.Thread(target=self.startCaching, args=(False,));\n",
    "            self.stop_thread=False\n",
    "            self.thread.start()        \n",
    "            return \n",
    "\n",
    "        #print(\"start caching\",\"...\")\n",
    "        \n",
    "        access=self.createAccess()\n",
    "\n",
    "        access.beginRead()\n",
    "        \n",
    "        for field in self.getFields():\n",
    "            for blockid in range(self.getTotalNumberOfBlocks()): \n",
    "                for time in self.getTimesteps().asVector():\n",
    "                    # print(\"Copying block\",\"time\",time,\"field\",field,\"blockid\",blockid,\"...\")\n",
    "                    buffer =  self.readBlock(blockid, field=field, time=time, access=access);\n",
    "                    \n",
    "                     # to debug missing blocks\n",
    "                    if  False and buffer is None :\n",
    "                        read_block = db.createBlockQuery(blockid, ord('r'));\n",
    "                        msg=\"# {} {} \\n\".format(blockid,read_block.getLogicBox().toString());\n",
    "                        os.write(1, bytes(msg,'utf-8'))                   \n",
    "                    \n",
    "                    self.num_blocks_cached += 1\n",
    "                    self.updateProgress()\n",
    "                    if self.stop_thread:\n",
    "                        # print(\"thread stopped\")\n",
    "                        access.endRead()\n",
    "                        return\n",
    "                        \n",
    "        access.endRead()\n",
    "        self.thread=None\n",
    "        #print(\"caching finished done\")\n",
    "        \n",
    "    # stopCaching\n",
    "    def stopCaching(self):\n",
    "        #print(\"stopping caching...\")\n",
    "        self.stop_thread=True\n",
    "        if self.thread:\n",
    "            self.thread.join()\n",
    "            self.thread=None\n",
    "    # getWidth\n",
    "    def getWidth(self):\n",
    "        p2=self.getLogicBox()[1]\n",
    "        return p2[0]    \n",
    "        \n",
    "    # getHeight\n",
    "    def getHeight(self):\n",
    "        p2=self.getLogicBox()[1]\n",
    "        return p2[1]   \n",
    "        \n",
    "    # getDepth\n",
    "    def getDepth(self):\n",
    "        p2=self.getLogicBox()[1]\n",
    "        return p2[2]  \n",
    "        \n",
    "    # readSlice\n",
    "    def readSlice(self,dir=0, slice=0,quality=-3, time=1, access=None):\n",
    "        \n",
    "        W,H,D=self.getWidth(), self.getHeight(), self.getDepth()\n",
    "        x=[0,W] if dir!=0 else [slice,slice+1]\n",
    "        y=[0,H] if dir!=1 else [slice,slice+1]\n",
    "        z=[0,D] if dir!=2 else [slice,slice+1] \n",
    "        ret=self.read(x=x, y=y,z=z, quality=quality,time=time,access=access)\n",
    "        \n",
    "        width,height=[value for value in ret.shape if value>1]\n",
    "        return ret.reshape([width,height])\n",
    "        \n",
    "    # readColumn\n",
    "    def readXYColumn(self,Height, Depth,quality=-3, time=1, access=None):\n",
    "        W,H,D=self.getWidth(), self.getHeight(), self.getDepth()\n",
    "        x=[0,W]\n",
    "        y=[Height,Height+1]\n",
    "        z=[Depth ,Depth +1] \n",
    "        ret=self.read(x=x, y=y,z=z, quality=quality,time=time,access=access)\n",
    "        #print(\">\",ret.shape)\n",
    "        width=[value for value in ret.shape if value>1]\n",
    "        return ret\n",
    "        \n",
    "    # setProgress\n",
    "    def setProgress(self,progress, progress_display):\n",
    "        self.progress=progress\n",
    "        self.progress_display=progress_display   \n",
    "        self.progress.min=0\n",
    "        self.progress.max =self.num_blocks       \n",
    "\n",
    "    # updateProgress\n",
    "    def updateProgress(self):\n",
    "                    \n",
    "        if self.progress:\n",
    "            self.progress.value = self.num_blocks_cached\n",
    "\n",
    "        if self.progress_display:\n",
    "            self.progress_display.value = (\n",
    "                \"Caching progress %.2f%% (%d/%d)\" % (\n",
    "                    100 * self.num_blocks_cached/self.num_blocks, \n",
    "                    self.num_blocks_cached,\n",
    "                    self.num_blocks))                    \n",
    "\n",
    "print(\"Utilities defined\")"
   ]
  },
  {
   "cell_type": "code",
   "execution_count": 6,
   "metadata": {},
   "outputs": [],
   "source": [
    "# decorater used to block function printing to the console\n",
    "def blockPrinting(func):\n",
    "    def func_wrapper(*args, **kwargs):\n",
    "        # block all printing to the console\n",
    "        sys.stdout = open(os.devnull, 'w')\n",
    "        # call the method in question\n",
    "        value = func(*args, **kwargs)\n",
    "        # enable all printing to the console\n",
    "        sys.stdout = sys.__stdout__\n",
    "        # pass the return value of the method back\n",
    "        return value\n",
    "\n",
    "    return func_wrapper"
   ]
  },
  {
   "cell_type": "code",
   "execution_count": 7,
   "metadata": {},
   "outputs": [],
   "source": [
    "NasaAtmosphericZone = []\n",
    "\n",
    "for i in range(6):\n",
    "    datasetName = \"nasa-DYAMOND-atmospheric-face_\"+str(i)+\"_depth_52_time_1024\"\n",
    "    NasaAtmosphericlocal_cache=\"./visus-cache/\"+datasetName+\"/visus.idx\"\n",
    "    NasaAtmospheric =    {\n",
    "            \"url\":\"http://atlantis.sci.utah.edu/mod_visus?dataset=\"+datasetName+\"&cached=1\",\n",
    "            \"access\":\"network\",\n",
    "            \"local\": NasaAtmosphericlocal_cache,\n",
    "            \"description\":'University of Utah Campus Server'\n",
    "        }\n",
    "\n",
    "\n",
    "\n",
    "    NasaAtmosphericdb=CachedDataset(NasaAtmospheric )\n",
    "    NasaAtmosphericaccess=NasaAtmosphericdb.createAccess()\n",
    "\n",
    "    NasaAtmosphericZone.append([NasaAtmosphericdb, NasaAtmosphericaccess])\n",
    "\n"
   ]
  },
  {
   "cell_type": "code",
   "execution_count": 8,
   "metadata": {
    "tags": []
   },
   "outputs": [],
   "source": [
    "@blockPrinting\n",
    "def getHorizontalImage(depth,time,data,x): \n",
    "    global NasaAtmosphericZone\n",
    "    db =NasaAtmosphericZone[x][0] \n",
    "    access=NasaAtmosphericZone[x][1]\n",
    "    return db.readSlice(dir=2, slice=(depth//2)*2,access=access,time=time, quality=-5)\n",
    "\n",
    "\n",
    "\n",
    "\n",
    "def getPlot(data,vmin,vmax):\n",
    "    plt.tick_params(axis='x', which='both', bottom=False,\n",
    "                top=False, labelbottom=False)\n",
    "    plt.tick_params(axis='y', which='both', right=False,\n",
    "                left=False, labelleft=False)\n",
    "    for pos in ['right', 'top', 'bottom', 'left']:\n",
    "        plt.gca().spines[pos].set_visible(False)\n",
    "    plt.imshow(data, origin = 'lower', cmap ='coolwarm',   aspect='auto',  vmin = vmin, vmax = vmax)\n",
    "    \n",
    "    return\n",
    "    "
   ]
  },
  {
   "cell_type": "code",
   "execution_count": 9,
   "metadata": {},
   "outputs": [],
   "source": [
    "\n",
    "def getNormData(time,depth):\n",
    "    clear_output(wait=True)\n",
    "    with concurrent.futures.ThreadPoolExecutor() as executor:\n",
    "        a=executor.submit(getHorizontalImage,depth,time,NasaAtmosphericZone,x=0)\n",
    "        a1=executor.submit(getHorizontalImage,depth,time,NasaAtmosphericZone,x=1)\n",
    "        a2=executor.submit(getHorizontalImage,depth,time,NasaAtmosphericZone,x=2)\n",
    "        a3=executor.submit(getHorizontalImage,depth,time,NasaAtmosphericZone,x=3)\n",
    "        a4=executor.submit(getHorizontalImage,depth,time,NasaAtmosphericZone,x=4)\n",
    "        a5=executor.submit(getHorizontalImage,depth,time,NasaAtmosphericZone,x=5)\n",
    "        data=a.result()\n",
    "        data1=a1.result()\n",
    "        data2=a2.result()\n",
    "        data3=a3.result()\n",
    "        data4=a4.result()\n",
    "        data5=a5.result()\n",
    "    \n",
    "    data3=np.rot90(data3)\n",
    "    data4=np.rot90(data4)\n",
    "    data5=np.rot90(np.rot90(np.rot90(data5)))\n",
    "    clear_output(wait=True)\n",
    "    minn=[]\n",
    "    maxx=[]\n",
    "    for i in range(0,6):\n",
    "        minn.append(np.min(getHorizontalImage(depth,1,NasaAtmosphericZone,x=i )))\n",
    "        maxx.append(np.max(getHorizontalImage(depth,1,NasaAtmosphericZone,x=i )))\n",
    "    vmin=np.min(minn)\n",
    "    vmax=np.max(maxx)\n",
    "    \n",
    "    \n",
    "    fig = plt.figure(figsize = (200, 100),frameon=False)\n",
    "    \n",
    "\n",
    "    gs1=plt.GridSpec(nrows=3,ncols=4)\n",
    "    plt.subplots_adjust(left=0, bottom=0, right=0.1, top=0.1, wspace=0, hspace=0)\n",
    "\n",
    "\n",
    "    plt.subplot(gs1[1,0])\n",
    "    getPlot(data,vmin,vmax)\n",
    "     \n",
    "    plt.subplot(gs1[1,1])\n",
    "    getPlot(data1,vmin,vmax)\n",
    "     \n",
    "    plt.subplot(gs1[0,1])\n",
    "    getPlot(data2,vmin,vmax)\n",
    "     \n",
    "    plt.subplot(gs1[1,2])\n",
    "    getPlot(data3,vmin,vmax)\n",
    "    plt.subplot(gs1[1,3])\n",
    "    getPlot(data4,vmin,vmax)\n",
    "           \n",
    "    plt.subplot(gs1[2,1])\n",
    "    getPlot(data5,vmin,vmax)\n",
    "    plt.show()\n",
    "    return\n",
    "\n",
    " "
   ]
  },
  {
   "cell_type": "code",
   "execution_count": 10,
   "metadata": {},
   "outputs": [],
   "source": [
    "time=widgets.IntSlider(min=1,max=1024,step=1,value=0,layout=Layout(width=\"500px\")) \n",
    "depth=widgets.IntSlider(min=1,max=51,step=1,value=51,layout=Layout(width=\"500px\"))\n",
    "show_data=interactive(getNormData,time=time,depth=depth)"
   ]
  },
  {
   "cell_type": "code",
   "execution_count": 11,
   "metadata": {},
   "outputs": [
    {
     "data": {
      "application/vnd.jupyter.widget-view+json": {
       "model_id": "1bc38ab6b74245e6be3c1f8af365f0e4",
       "version_major": 2,
       "version_minor": 0
      },
      "text/plain": [
       "interactive(children=(IntSlider(value=1, description='time', layout=Layout(width='500px'), max=1024, min=1), I…"
      ]
     },
     "metadata": {},
     "output_type": "display_data"
    }
   ],
   "source": [
    "show_data"
   ]
  },
  {
   "cell_type": "code",
   "execution_count": null,
   "metadata": {},
   "outputs": [],
   "source": []
  }
 ],
 "metadata": {
  "kernelspec": {
   "display_name": "Python 3 (ipykernel)",
   "language": "python",
   "name": "python3"
  },
  "language_info": {
   "codemirror_mode": {
    "name": "ipython",
    "version": 3
   },
   "file_extension": ".py",
   "mimetype": "text/x-python",
   "name": "python",
   "nbconvert_exporter": "python",
   "pygments_lexer": "ipython3",
   "version": "3.10.0"
  }
 },
 "nbformat": 4,
 "nbformat_minor": 4
}
