{
 "cells": [
  {
   "cell_type": "code",
   "execution_count": 1,
   "id": "1326be25-82a9-48df-acb1-8d24fff5a17a",
   "metadata": {},
   "outputs": [],
   "source": [
    "import numpy as np\n",
    "import pandas as pd\n",
    "import xarray as xr\n",
    "from tqdm import tqdm\n",
    "import os,sys"
   ]
  },
  {
   "cell_type": "code",
   "execution_count": 2,
   "id": "fdb3cbbb-d7c7-4583-93d4-42e9a2b856dd",
   "metadata": {},
   "outputs": [],
   "source": [
    "directory='/usr/sci/cedmav/hello/nasa-atmosphere/'\n",
    "data_dir='/home/sci/aashishp/NAS/converted_raw_files/'"
   ]
  },
  {
   "cell_type": "code",
   "execution_count": 3,
   "id": "bacbdbd0-487f-4654-875f-951e7be10493",
   "metadata": {},
   "outputs": [
    {
     "name": "stderr",
     "output_type": "stream",
     "text": [
      "100%|██████████| 1024/1024 [10:13:03<00:00, 35.92s/it]"
     ]
    },
    {
     "name": "stdout",
     "output_type": "stream",
     "text": [
      "data conversion completed\n"
     ]
    },
    {
     "name": "stderr",
     "output_type": "stream",
     "text": [
      "\n"
     ]
    }
   ],
   "source": [
    "for filename in tqdm(os.listdir(directory)):\n",
    "#     print(filename)\n",
    "    i=filename[:-4]\n",
    "    \n",
    "    from_path=os.path.join(directory,filename)\n",
    "    to_path=os.path.join(data_dir,i)\n",
    "    if os.path.exists(to_path)==False:\n",
    "        os.mkdir(to_path)\n",
    "        os.chdir(directory)\n",
    "        \n",
    "        data=xr.open_dataset(filename)\n",
    "        os.chdir(to_path)\n",
    "        a=data.U\n",
    "        for i in range(len(data['lev'])):\n",
    "            j,k=0,0\n",
    "            for l in range(6):\n",
    "                dd=a[0,i,k:k+1440,:].values\n",
    "                dd.astype('float32').tofile('lev_'+str(i)+'_face_'+str(j)+'.raw')\n",
    "                j+=1\n",
    "                k+=1440\n",
    "    # print(filename+\"..............done\")\n",
    "print('data conversion completed')  \n",
    "    \n",
    "    # print(filename)"
   ]
  },
  {
   "cell_type": "markdown",
   "id": "f20a2512-e29c-464f-bb68-123da94120d6",
   "metadata": {},
   "source": []
  },
  {
   "cell_type": "code",
   "execution_count": null,
   "id": "1ca6c8fb-f131-40a8-b074-8e1a87928528",
   "metadata": {},
   "outputs": [],
   "source": []
  }
 ],
 "metadata": {
  "kernelspec": {
   "display_name": "Python 3",
   "language": "python",
   "name": "python3"
  },
  "language_info": {
   "codemirror_mode": {
    "name": "ipython",
    "version": 3
   },
   "file_extension": ".py",
   "mimetype": "text/x-python",
   "name": "python",
   "nbconvert_exporter": "python",
   "pygments_lexer": "ipython3",
   "version": "3.9.12"
  }
 },
 "nbformat": 4,
 "nbformat_minor": 5
}
