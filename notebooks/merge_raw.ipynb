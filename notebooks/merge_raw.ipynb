{
 "cells": [
  {
   "cell_type": "markdown",
   "id": "fbefb263-0d7d-4995-b2ee-727c32853692",
   "metadata": {},
   "source": [
    "### This code merges similar faces of all timesteps into one single raw file"
   ]
  },
  {
   "cell_type": "code",
   "execution_count": 8,
   "id": "48e3f134-efde-4aa4-aca6-a118f6da5bf7",
   "metadata": {},
   "outputs": [],
   "source": [
    "import numpy as np\n",
    "import pandas as pd\n",
    "import xarray as xr\n",
    "from tqdm import tqdm\n",
    "import os,sys"
   ]
  },
  {
   "cell_type": "code",
   "execution_count": 9,
   "id": "f8d39a5d-af7c-40b5-8864-5f0a9bfab09b",
   "metadata": {},
   "outputs": [],
   "source": [
    "from_dir='/home/sci/aashishp/NAS/converted_raw_files/'\n",
    "to_dir='/home/sci/aashishp/NAS/merged_raw/'"
   ]
  },
  {
   "cell_type": "code",
   "execution_count": 10,
   "id": "4e1aec06-7363-4a7b-8e7d-c9b6f75c44d2",
   "metadata": {},
   "outputs": [
    {
     "name": "stdout",
     "output_type": "stream",
     "text": [
      "312\n"
     ]
    },
    {
     "name": "stderr",
     "output_type": "stream",
     "text": [
      "100%|██████████| 312/312 [12:10:45<00:00, 140.53s/it]  \n"
     ]
    }
   ],
   "source": [
    "a=[]\n",
    "for foldername in os.listdir(from_dir):\n",
    "    folder=os.path.join(from_dir,foldername)\n",
    "    for filename in os.listdir(folder):\n",
    "        \n",
    "        if filename not in a:\n",
    "            a.append(filename)\n",
    "        \n",
    "print(len(a))\n",
    "i=0\n",
    "for fname in tqdm(a):\n",
    "    os.chdir(to_dir)\n",
    "    with open(fname, 'w+b') as g:\n",
    "        for foldername in os.listdir(from_dir):\n",
    "            folder=os.path.join(from_dir,foldername)\n",
    "            # print(folder)\n",
    "            for filename in os.listdir(folder):\n",
    "                os.chdir(folder)\n",
    "                # i=filename[:-4]\n",
    "                # folder2_dir=os.path.join(to_dir,i)\n",
    "                # if os.path.exists(folder2_dir)== False:\n",
    "                #     os.mkdir(folder2_dir)                   \n",
    "                if filename==fname:           \n",
    "                    with open(filename,'rb') as f:\n",
    "                        # f.seek(0)\n",
    "                        data=f.read()\n",
    "                        g.write(data)\n",
    "    #                     da=f.read()\n",
    "    #                     # os.chdir(folder2_dir)\n",
    "    #                     # dt = np.dtype('>f')        \n",
    "    #                     np_array_be = np.frombuffer(da)\n",
    "    #                     g.write(np_array_be)\n",
    "    g.close()        \n",
    "            \n"
   ]
  },
  {
   "cell_type": "code",
   "execution_count": null,
   "id": "dbcd09d2-7a9b-4ce0-9e00-946511286e40",
   "metadata": {},
   "outputs": [],
   "source": []
  }
 ],
 "metadata": {
  "kernelspec": {
   "display_name": "Python 3",
   "language": "python",
   "name": "python3"
  },
  "language_info": {
   "codemirror_mode": {
    "name": "ipython",
    "version": 3
   },
   "file_extension": ".py",
   "mimetype": "text/x-python",
   "name": "python",
   "nbconvert_exporter": "python",
   "pygments_lexer": "ipython3",
   "version": "3.9.12"
  }
 },
 "nbformat": 4,
 "nbformat_minor": 5
}
