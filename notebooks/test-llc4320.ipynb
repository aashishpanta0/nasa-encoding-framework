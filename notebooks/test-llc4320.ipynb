{
 "cells": [
  {
   "cell_type": "code",
   "execution_count": 1,
   "id": "923c45a8",
   "metadata": {},
   "outputs": [],
   "source": [
    "import sys\n",
    "sys.path.insert(0, 'F:/Workspace/idx2/build/Source/Python/RelWithDebInfo')\n",
    "#sys.path.insert(0, 'F:/Workspace/idx2/build/Source/Python/Debug')\n",
    "import idx2Py as i2p\n",
    "import numpy as np\n",
    "import matplotlib\n",
    "from matplotlib import pyplot as plt\n",
    "from ipywidgets import *\n",
    "import concurrent.futures"
   ]
  },
  {
   "cell_type": "code",
   "execution_count": 2,
   "id": "6ab6dedb",
   "metadata": {
    "scrolled": true
   },
   "outputs": [
    {
     "name": "stdout",
     "output_type": "stream",
     "text": [
      "CPU times: total: 0 ns\n",
      "Wall time: 0 ns\n"
     ]
    }
   ],
   "source": [
    "%%time\n",
    "input_dir  = 'J:/nasa'\n",
    "dataset = 'llc4320'\n",
    "times_per_file = 64\n",
    "times_per_brick = 64\n",
    "vmin = -10\n",
    "vmax = 10\n",
    "#vmin = -5.35\n",
    "#vmax = 3.24"
   ]
  },
  {
   "cell_type": "markdown",
   "id": "a1889224",
   "metadata": {},
   "source": [
    "## Set up color map"
   ]
  },
  {
   "cell_type": "code",
   "execution_count": 3,
   "id": "f88e6ab6",
   "metadata": {},
   "outputs": [
    {
     "name": "stdout",
     "output_type": "stream",
     "text": [
      "[0.0, 0.39072399999999996, 0.4869993, 0.500351358, 0.5186225999999999, 0.5354884, 1.0]\n"
     ]
    }
   ],
   "source": [
    "import colorsys\n",
    "\n",
    "Points = [\n",
    "  -10,\n",
    "  -2.18552,\n",
    "  -0.260014,\n",
    "  0.00702716,\n",
    "  0.372452,\n",
    "  0.709768,\n",
    "  10  \n",
    "]\n",
    "\n",
    "RGBPoints = [  \n",
    "  [0.27843137254900002, 0.27843137254900002, 0.85882352941200002],\n",
    "  [0.0, 0.33333333333333331, 1.0],\n",
    "  [0.33333333333333331, 0.66666666666666663, 1.0],\n",
    "  [0.0, 0.0, 0.49803921568627452],  \n",
    "  [0.82745098039215681, 1.0, 0.73333333333333328],\n",
    "  [1.0, 0.66666666666666663, 0.0],\n",
    "  [0.87843137254899994, 0.30196078431399997, 0.30196078431399997]\n",
    "]\n",
    "\n",
    "def get_continuous_cmap(rgb_list, float_list=None):\n",
    "  if float_list:\n",
    "    # normalize the float list\n",
    "    min_val = min(float_list)\n",
    "    max_val = max(float_list)\n",
    "    my_range = max_val - min_val\n",
    "    float_list = [(v - min_val)/my_range for v in float_list]\n",
    "    print(float_list)\n",
    "  else:\n",
    "    float_list = list(np.linspace(0, 1, len(rgb_list)))\n",
    "\n",
    "  cdict = dict()  \n",
    "  for num, col in enumerate(['red', 'green', 'blue']):\n",
    "    col_list = [[float_list[i], rgb_list[i][num], rgb_list[i][num]] for i in range(0, len(float_list))]\n",
    "    cdict[col] = col_list\n",
    "  cmp = matplotlib.colors.LinearSegmentedColormap('my_cmp', segmentdata=cdict, N=256)\n",
    "  return cmp\n",
    "\n",
    "my_cmap = get_continuous_cmap(RGBPoints, Points)"
   ]
  },
  {
   "cell_type": "code",
   "execution_count": 4,
   "id": "edcc1953",
   "metadata": {},
   "outputs": [],
   "source": [
    "def get_file_name(dataset, field, face, depth, time_from, time_to):\n",
    "  return input_dir + '/' + dataset + '/' + field + '-face-' + repr(face) + '-depth-' + repr(depth) + '-time-' + repr(time_from) + '-' + repr(time_to) + '.idx2' \n",
    "\n",
    "def get_extent(face):\n",
    "  if (face < 2):\n",
    "    return (0, 0, 4320, 12960)\n",
    "  elif (face > 2):\n",
    "    return (0, 0, 12960, 4320)\n",
    "  return (0, 0, 4320, 4320)"
   ]
  },
  {
   "cell_type": "code",
   "execution_count": 5,
   "id": "ca5e3f42",
   "metadata": {},
   "outputs": [],
   "source": [
    "# Query \n",
    "# extent should be a 4-tuple: (from_x, from_y, dim_x, dim_y)\n",
    "def query_data(dataset, field, face, depth, time, downsampling, accuracy, extent=None):\n",
    "  # determine the time step range to query from\n",
    "  file_time_from    = (time // times_per_file) * times_per_file\n",
    "  file_time_to      = file_time_from + times_per_file\n",
    "  time_in_file      = time % times_per_file\n",
    "  time_extent_from  = (time_in_file // times_per_brick) * times_per_brick\n",
    "  \n",
    "  # split the extent into 4 pieces\n",
    "  if extent == None:\n",
    "    extent = get_extent(face)\n",
    "  e0 = extent\n",
    "  e1 = (e0[0]           , e0[1]           , e0[2]//2   , e0[3]//2   )\n",
    "  e2 = (e0[0]+(e0[2]//2), e0[1]           , e0[2]-e1[2], e0[3]//2   )\n",
    "  e3 = (e0[0]           , e0[1]+(e0[3]//2), e0[2]//2   , e0[3]-e1[3])\n",
    "  e4 = (e0[0]+(e0[2]//2), e0[1]+(e0[3]//2), e0[2]-e1[2], e0[3]-e1[3])\n",
    "  e1 = (e1[0], e1[1], time_extent_from, e1[2], e1[3], times_per_brick)\n",
    "  e2 = (e2[0], e2[1], time_extent_from, e2[2], e2[3], times_per_brick)\n",
    "  e3 = (e3[0], e3[1], time_extent_from, e3[2], e3[3], times_per_brick)\n",
    "  e4 = (e4[0], e4[1], time_extent_from, e4[2], e4[3], times_per_brick)\n",
    "\n",
    "  file = get_file_name(dataset, field, face, depth, file_time_from, file_time_to)\n",
    "  print(file)\n",
    "    \n",
    "  array = None\n",
    "  with concurrent.futures.ThreadPoolExecutor() as executor:\n",
    "    f1 = executor.submit(i2p.DecodeExtent3f32, file, input_dir, e1, downsampling, accuracy)    \n",
    "    f2 = executor.submit(i2p.DecodeExtent3f32, file, input_dir, e2, downsampling, accuracy)\n",
    "    f3 = executor.submit(i2p.DecodeExtent3f32, file, input_dir, e3, downsampling, accuracy)\n",
    "    f4 = executor.submit(i2p.DecodeExtent3f32, file, input_dir, e4, downsampling, accuracy)\n",
    "    a1 = f1.result()\n",
    "    a2 = f2.result()\n",
    "    a3 = f3.result()\n",
    "    a4 = f4.result()\n",
    "    shape = (a1.shape[0], a1.shape[1] + a4.shape[1], a1.shape[2] + a4.shape[2])\n",
    "    print(a1.shape, a2.shape, a3.shape, a4.shape)\n",
    "    print(shape)\n",
    "    array = np.empty(shape)\n",
    "    \n",
    "    array[:, :a1.shape[1], :a1.shape[2]] = a1\n",
    "    array[:, :a2.shape[1], a2.shape[2]:] = a2\n",
    "    array[:, a3.shape[1]:, :a3.shape[2]] = a3\n",
    "    array[:, a4.shape[1]:, a4.shape[2]:] = a4\n",
    "  \n",
    "  return array"
   ]
  },
  {
   "cell_type": "markdown",
   "id": "f242426a",
   "metadata": {},
   "source": [
    "# Visualize a single face through time"
   ]
  },
  {
   "cell_type": "code",
   "execution_count": 1,
   "id": "80b8ae95",
   "metadata": {
    "scrolled": false
   },
   "outputs": [
    {
     "ename": "NameError",
     "evalue": "name 'query_data' is not defined",
     "output_type": "error",
     "traceback": [
      "\u001b[1;31m---------------------------------------------------------------------------\u001b[0m",
      "\u001b[1;31mNameError\u001b[0m                                 Traceback (most recent call last)",
      "File \u001b[1;32m<timed exec>:7\u001b[0m, in \u001b[0;36m<module>\u001b[1;34m\u001b[0m\n",
      "\u001b[1;31mNameError\u001b[0m: name 'query_data' is not defined"
     ]
    }
   ],
   "source": [
    "%%time\n",
    "%matplotlib inline\n",
    "\n",
    "accuracy = 1\n",
    "downsampling = [4, 4, 1]\n",
    "time_block = 0\n",
    "\n",
    "array = query_data(dataset, 'u', 0, 0, 0, downsampling, accuracy)\n",
    "\n",
    "plot = None\n",
    "def f(t): # get time step t\n",
    "  global time_block\n",
    "  global array\n",
    "  \n",
    "  curr_time_block = t // times_per_brick\n",
    "  if curr_time_block != time_block:        \n",
    "    array = query_data(dataset, 'u', 0, 0, t, downsampling, accuracy)\n",
    "    time_block = curr_time_block\n",
    "  fig = plt.figure(figsize = (4, 12))\n",
    "  \n",
    "  tt = min((t - time_block * times_per_brick) // pow(2, downsampling[2]), array.shape[0]-1)\n",
    "  plot = plt.imshow(array[tt, :, :], origin = 'upper', cmap = my_cmap, aspect = 'auto', vmin = vmin, vmax = vmax)\n",
    "  plt.show()\n",
    "  return\n",
    "\n",
    "interact(f, t = widgets.IntSlider(min=0, max=63, step=1, value=0, layout=Layout(width='500px')));"
   ]
  },
  {
   "cell_type": "markdown",
   "id": "6776ff96",
   "metadata": {},
   "source": [
    "# Visualize four faces through time"
   ]
  },
  {
   "cell_type": "code",
   "execution_count": 8,
   "id": "4150bd31",
   "metadata": {},
   "outputs": [
    {
     "name": "stdout",
     "output_type": "stream",
     "text": [
      "J:/nasa/llc4320/u-face-0-depth-0-time-0-64.idx2\n",
      "J:/nasa/llc4320/u-face-1-depth-0-time-0-64.idx2\n",
      "J:/nasa/llc4320/v-face-3-depth-0-time-0-64.idx2\n",
      "J:/nasa/llc4320/v-face-4-depth-0-time-0-64.idx2\n",
      "(33, 811, 271) (33, 811, 271) (33, 811, 271) (33, 811, 271)\n",
      "(33, 1622, 542)\n",
      "(33, 811, 271) (33, 811, 271) (33, 811, 271) (33, 811, 271)\n",
      "(33, 1622, 542)\n",
      "(33, 271, 811) (33, 271, 811) (33, 271, 811) (33, 271, 811)\n",
      "(33, 542, 1622)\n",
      "(33, 271, 811) (33, 271, 811) (33, 271, 811) (33, 271, 811)\n",
      "(33, 542, 1622)\n"
     ]
    },
    {
     "data": {
      "application/vnd.jupyter.widget-view+json": {
       "model_id": "cc389f0777ca43a9bd5ecd441fee80f9",
       "version_major": 2,
       "version_minor": 0
      },
      "text/plain": [
       "interactive(children=(IntSlider(value=0, description='t', layout=Layout(width='500px'), max=32), Output()), _d…"
      ]
     },
     "metadata": {},
     "output_type": "display_data"
    },
    {
     "name": "stdout",
     "output_type": "stream",
     "text": [
      "CPU times: total: 59.1 s\n",
      "Wall time: 6.66 s\n"
     ]
    },
    {
     "data": {
      "text/plain": [
       "<function __main__.f(t)>"
      ]
     },
     "execution_count": 8,
     "metadata": {},
     "output_type": "execute_result"
    }
   ],
   "source": [
    "%%time\n",
    "%matplotlib inline\n",
    "\n",
    "accuracy = 1\n",
    "downsampling = [3, 3, 1]\n",
    "\n",
    "a0 = None\n",
    "a1 = None\n",
    "a3 = None\n",
    "a4 = None\n",
    "\n",
    "with concurrent.futures.ThreadPoolExecutor() as executor:\n",
    "    f0 = executor.submit(query_data, dataset, 'u', 0, 0, 0, downsampling, accuracy)    \n",
    "    f1 = executor.submit(query_data, dataset, 'u', 1, 0, 0, downsampling, accuracy)\n",
    "    f3 = executor.submit(query_data, dataset, 'v', 3, 0, 0, downsampling, accuracy)\n",
    "    f4 = executor.submit(query_data, dataset, 'v', 4, 0, 0, downsampling, accuracy)\n",
    "    a0 = f0.result()\n",
    "    a1 = f1.result()\n",
    "    a3 = f3.result()\n",
    "    a4 = f4.result()\n",
    "\n",
    "\n",
    "# vmin = min(np.min(array0), np.min(array1), np.min(array3), np.min(array4))\n",
    "# vmax = max(np.max(array0), np.max(array1), np.max(array3), np.max(array4))\n",
    "\n",
    "def f(t): # get time step t\n",
    "  fig, ((ax0, ax1, ax3, ax4)) = plt.subplots(1, 4, figsize=([15, 12]))\n",
    "  ax0.axis('off')\n",
    "  ax1.axis('off')\n",
    "  ax3.axis('off')\n",
    "  ax4.axis('off')\n",
    "\n",
    "  ax0.imshow(a0[t, :, :], origin = 'lower', cmap = my_cmap, aspect = 'auto', vmin = vmin, vmax = vmax)\n",
    "  ax1.imshow(a1[t, :, :], origin = 'lower', cmap = my_cmap, aspect = 'auto', vmin = vmin, vmax = vmax)\n",
    "  ax3.imshow(np.rot90(a3[t, :, :]), origin = 'lower', cmap = my_cmap, aspect = 'auto', vmin = vmin, vmax = vmax)\n",
    "  ax4.imshow(np.rot90(a4[t, :, :]), origin = 'lower', cmap = my_cmap, aspect = 'auto', vmin = vmin, vmax = vmax) \n",
    "  return  \n",
    "\n",
    "interact(f, t = widgets.IntSlider(min = 0, max = a1.shape[0] - 1, step = 1, value = 0, layout = Layout(width = '500px')));"
   ]
  },
  {
   "cell_type": "markdown",
   "id": "b8d1a231",
   "metadata": {},
   "source": [
    "# Visualize four faces through depths"
   ]
  },
  {
   "cell_type": "code",
   "execution_count": 9,
   "id": "20348fd2",
   "metadata": {},
   "outputs": [
    {
     "data": {
      "application/vnd.jupyter.widget-view+json": {
       "model_id": "29e98c7b1c3b41d1b08b24f05e5d1e48",
       "version_major": 2,
       "version_minor": 0
      },
      "text/plain": [
       "interactive(children=(IntSlider(value=0, description='d', layout=Layout(width='800px'), max=89), Output()), _d…"
      ]
     },
     "metadata": {},
     "output_type": "display_data"
    },
    {
     "name": "stdout",
     "output_type": "stream",
     "text": [
      "CPU times: total: 3.09 s\n",
      "Wall time: 1.08 s\n"
     ]
    },
    {
     "data": {
      "text/plain": [
       "<function __main__.f(d)>"
      ]
     },
     "execution_count": 9,
     "metadata": {},
     "output_type": "execute_result"
    }
   ],
   "source": [
    "%%time\n",
    "%matplotlib inline\n",
    "\n",
    "array0 = None\n",
    "array1 = None\n",
    "array3 = None\n",
    "array4 = None\n",
    "\n",
    "downsampling = [3, 3, 3]\n",
    "\n",
    "def f(d): # get time step t\n",
    "  with concurrent.futures.ThreadPoolExecutor() as executor:\n",
    "    accuracy = 0.01\n",
    "    future0 = executor.submit(i2p.Decode3f32, 'D:/Datasets/nasa/llc_2160_32/llc2160/u-face-0-depth-' + repr(d) + '-time-0-32.idx2', input_dir, downsampling, accuracy)    \n",
    "    future1 = executor.submit(i2p.Decode3f32, 'D:/Datasets/nasa/llc_2160_32/llc2160/u-face-1-depth-' + repr(d) + '-time-0-32.idx2', input_dir, downsampling, accuracy)\n",
    "    future3 = executor.submit(i2p.Decode3f32, 'D:/Datasets/nasa/llc_2160_32/llc2160/u-face-3-depth-' + repr(d) + '-time-0-32.idx2', input_dir, downsampling, accuracy)\n",
    "    future4 = executor.submit(i2p.Decode3f32, 'D:/Datasets/nasa/llc_2160_32/llc2160/u-face-4-depth-' + repr(d) + '-time-0-32.idx2', input_dir, downsampling, accuracy)\n",
    "    array0 = future0.result()\n",
    "    array1 = future1.result()\n",
    "    array3 = future3.result()\n",
    "    array4 = future4.result()\n",
    "    fig, ((ax0, ax1, ax3, ax4)) = plt.subplots(1, 4, figsize=([15, 12]))\n",
    "    ax0.axis('off')\n",
    "    ax1.axis('off')\n",
    "    ax3.axis('off')\n",
    "    ax4.axis('off')\n",
    "    ax0.imshow(array0[0, :, :], origin = 'lower', cmap = my_cmap, aspect = 'auto', vmin = vmin, vmax = vmax)\n",
    "    ax1.imshow(array1[0, :, :], origin = 'lower', cmap = my_cmap, aspect = 'auto', vmin = vmin, vmax = vmax)\n",
    "    ax3.imshow(np.rot90(array3[0, :, :]), origin = 'lower', cmap = my_cmap, aspect = 'auto', vmin = vmin, vmax = vmax)\n",
    "    ax4.imshow(np.rot90(array4[0, :, :]), origin = 'lower', cmap = my_cmap, aspect = 'auto', vmin = vmin, vmax = vmax) \n",
    "  return  \n",
    "\n",
    "interact(f, d = widgets.IntSlider(min = 0, max = 89, step = 1, value = 0, layout = Layout(width = '800px')));"
   ]
  },
  {
   "cell_type": "markdown",
   "id": "221c2daf",
   "metadata": {},
   "source": [
    "# Vertical slicing along y (constant x) at a particular time step"
   ]
  },
  {
   "cell_type": "code",
   "execution_count": 13,
   "id": "da9b4760",
   "metadata": {},
   "outputs": [
    {
     "data": {
      "application/vnd.jupyter.widget-view+json": {
       "model_id": "a7e3b598ce5c42639d0de14a5c43924b",
       "version_major": 2,
       "version_minor": 0
      },
      "text/plain": [
       "interactive(children=(IntSlider(value=0, description='x', layout=Layout(width='800px'), max=8639, step=10), Ou…"
      ]
     },
     "metadata": {},
     "output_type": "display_data"
    },
    {
     "name": "stdout",
     "output_type": "stream",
     "text": [
      "CPU times: total: 37.1 s\n",
      "Wall time: 3.65 s\n"
     ]
    },
    {
     "data": {
      "text/plain": [
       "<function __main__.f(x)>"
      ]
     },
     "execution_count": 13,
     "metadata": {},
     "output_type": "execute_result"
    }
   ],
   "source": [
    "%%time\n",
    "%matplotlib inline\n",
    "\n",
    "downsampling = [2, 2, 2]\n",
    "\n",
    "timestep = 0\n",
    "ndepths = 90\n",
    "n = 2160\n",
    "\n",
    "def to_face(f):\n",
    "  if (f >= 2):\n",
    "    return f + 1;\n",
    "  return f\n",
    "    \n",
    "def f(x):\n",
    "  face = to_face(x // n)\n",
    "  xx = x % n # local x coordinate within the face\n",
    "  nx = 0\n",
    "  ny = ndepths\n",
    "  future_array = [None] * ndepths\n",
    "  with concurrent.futures.ThreadPoolExecutor() as executor:\n",
    "    for d in range(0, ndepths):  \n",
    "      extent = (xx, 0, timestep, 1, n * 3, 1)    \n",
    "      if (face > 2):\n",
    "        extent = (0, xx, timestep, n * 3, 1, 1)\n",
    "      #print(extent)\n",
    "      #print('D:/Datasets/nasa/llc_2160_32/llc2160/u-face-' + repr(face) + '-depth-' + repr(d) + '-time-0-32.idx2')\n",
    "      future_array[d] = executor.submit(i2p.DecodeExtent3f32, 'D:/Datasets/nasa/llc_2160_32/llc2160/u-face-' + repr(face) + '-depth-' + repr(d) + '-time-0-32.idx2', input_dir, extent, downsampling, accuracy)\n",
    "\n",
    "  array = None # store the whole result\n",
    "  for d in range(0, ndepths):\n",
    "    # figure out the shape of the output array once (at depth 0)\n",
    "    a = future_array[d].result()\n",
    "    #if (face > 2):\n",
    "      #a = np.rot90(a)\n",
    "    if d == 0:\n",
    "      print(a.shape)\n",
    "      if (face < 2):\n",
    "        nx = a.shape[1]\n",
    "      else:\n",
    "        nx = a.shape[2]\n",
    "      array = np.empty((ny, nx))\n",
    "      \n",
    "    if (face < 2):\n",
    "      array[d, :] = a[0, :, 0]\n",
    "    else:\n",
    "      array[d, :] = a[0, 0, :]\n",
    "    #array[d, :] = a[0, :, (xx * a.shape[2]) // n]\n",
    "\n",
    "  fig = plt.plot(figsize = ([1024, 90]))\n",
    "  plt.imshow(array, origin = 'lower', cmap = my_cmap, aspect = 'auto', vmin = vmin, vmax = vmax)\n",
    "  plt.show()\n",
    "  return\n",
    "\n",
    "interact(f, x = widgets.IntSlider(min = 0, max = 8639, step = 10, value = 0, layout = Layout(width = '800px')));"
   ]
  },
  {
   "cell_type": "code",
   "execution_count": null,
   "id": "d99b4ab7",
   "metadata": {},
   "outputs": [],
   "source": []
  }
 ],
 "metadata": {
  "interpreter": {
   "hash": "4da9a445269eaf7644d508d1b9c6a8048325acbe8141c1a0f1b98c2b970b1f1d"
  },
  "kernelspec": {
   "display_name": "Python 3 (ipykernel)",
   "language": "python",
   "name": "python3"
  },
  "language_info": {
   "codemirror_mode": {
    "name": "ipython",
    "version": 3
   },
   "file_extension": ".py",
   "mimetype": "text/x-python",
   "name": "python",
   "nbconvert_exporter": "python",
   "pygments_lexer": "ipython3",
   "version": "3.10.0"
  }
 },
 "nbformat": 4,
 "nbformat_minor": 5
}
