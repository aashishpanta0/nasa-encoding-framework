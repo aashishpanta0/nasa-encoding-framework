{
 "cells": [
  {
   "cell_type": "code",
   "execution_count": 1,
   "id": "ebd77d77",
   "metadata": {},
   "outputs": [],
   "source": [
    "import sys\n",
    "sys.path.insert(0, '/home1/dthoang/idx2/build/Source/Python')\n",
    "#sys.path.insert(0, 'F:/Workspace/idx2/build/Source/Python/RelWithDebInfo')\n",
    "#sys.path.insert(0, 'F:/Workspace/idx2/build/Source/Python/Debug')\n",
    "import idx2Py as i2p\n",
    "import numpy as np\n",
    "import matplotlib\n",
    "from matplotlib import pyplot as plt\n",
    "from ipywidgets import *\n",
    "import concurrent.futures"
   ]
  },
  {
   "cell_type": "code",
   "execution_count": 2,
   "id": "6ab6dedb",
   "metadata": {
    "scrolled": true
   },
   "outputs": [
    {
     "name": "stdout",
     "output_type": "stream",
     "text": [
      "CPU times: user 4 µs, sys: 0 ns, total: 4 µs\n",
      "Wall time: 8.11 µs\n"
     ]
    }
   ],
   "source": [
    "%%time\n",
    "input_dir  = '/nobackupp19/vpascucc/converted_files/nasa-encoding-framework'\n",
    "accuracy = 0.01\n",
    "#vmin = -6.14770936965942382812\n",
    "#vmax = 1.24035537242889404297\n",
    "vmin = -5.35\n",
    "vmax = 3.24"
   ]
  },
  {
   "cell_type": "code",
   "execution_count": 3,
   "id": "f88e6ab6",
   "metadata": {},
   "outputs": [
    {
     "name": "stdout",
     "output_type": "stream",
     "text": [
      "[0.0, 0.5374063433439339, 0.5977155863060849, 0.6234411995033681, 0.6471319739954782, 0.6720695750120144, 1.0]\n"

     ]
    }
   ],
   "source": [
    "import colorsys\n",
    "\n",
    "Points = [\n",
    "  -5.35081,\n",
    "  -0.732399,\n",
    "  -0.214108,\n",
    "  0.00697509,\n",
    "  0.210571,\n",
    "  0.424882,\n",
    "  3.24308  \n",
    "]\n",
    "\n",
    "RGBPoints = [  \n",
    "  [0.27843137254900002, 0.27843137254900002, 0.85882352941200002],\n",
    "  [0.0, 0.33333333333333331, 1.0],\n",
    "  [0.33333333333333331, 0.66666666666666663, 1.0],\n",
    "  [0.0, 0.0, 0.49803921568627452],  \n",
    "  [0.82745098039215681, 1.0, 0.73333333333333328],\n",
    "  [1.0, 0.66666666666666663, 0.0],\n",
    "  [0.87843137254899994, 0.30196078431399997, 0.30196078431399997]\n",
    "]\n",
    "\n",
    "def get_continuous_cmap(rgb_list, float_list=None):\n",
    "  if float_list:\n",
    "    # normalize the float list\n",
    "    min_val = min(float_list)\n",
    "    max_val = max(float_list)\n",
    "    my_range = max_val - min_val\n",
    "    float_list = [(v - min_val)/my_range for v in float_list]\n",
    "    print(float_list)\n",
    "  else:\n",
    "    float_list = list(np.linspace(0, 1, len(rgb_list)))\n",
    "\n",
    "  cdict = dict()  \n",
    "  for num, col in enumerate(['red', 'green', 'blue']):\n",
    "    col_list = [[float_list[i], rgb_list[i][num], rgb_list[i][num]] for i in range(0, len(float_list))]\n",
    "    cdict[col] = col_list\n",
    "  cmp = matplotlib.colors.LinearSegmentedColormap('my_cmp', segmentdata=cdict, N=256)\n",
    "  return cmp\n",
    "\n",
    "my_cmap = get_continuous_cmap(RGBPoints, Points)"
   ]
  },
  {
   "cell_type": "markdown",
   "id": "f242426a",
   "metadata": {},
   "source": [
    "# Visualize a single face through time"
   ]
  },
  {
   "cell_type": "code",
   "execution_count": 6,
   "id": "80b8ae95",
   "metadata": {},
   "outputs": [
    {
     "data": {
      "application/vnd.jupyter.widget-view+json": {
       "model_id": "13821d5f93ac4c72b9d4c187702e8331",
       "version_major": 2,
       "version_minor": 0
      },
      "text/plain": [
       "interactive(children=(IntSlider(value=0, description='t', layout=Layout(width='1200px'), max=256), Output()), …"

      ]
     },
     "metadata": {},
     "output_type": "display_data"
    },
    {
     "name": "stdout",
     "output_type": "stream",
     "text": [
      "CPU times: user 16.6 s, sys: 1.61 s, total: 18.2 s\n",
      "Wall time: 18.5 s\n"
     ]
    },
    {
     "data": {
      "text/plain": [
       "<function __main__.f(t)>"
      ]
     },
     "execution_count": 6,
     "metadata": {},
     "output_type": "execute_result"
    }
   ],
   "source": [
    "%%time\n",
    "%matplotlib inline\n",
    "\n",
    "downsampling = [2, 2, 2]\n",
    "array = i2p.Decode3f32('/nobackupp19/vpascucc/converted_files/nasa-encoding-framework/llc2160/u-face-1-depth-3-time-0-1024.idx2', input_dir, downsampling, accuracy)\n",
    "\n",
    "plot = None\n",
    "def f(t): # get time step t\n",
    "  fig = plt.figure(figsize = (4, 12))\n",
    "  plot = plt.imshow(array[t, :, :], origin = 'upper', cmap = my_cmap, aspect = 'auto', vmin = vmin, vmax = vmax)\n",
    "  plt.show()\n",
    "  return\n",
    "\n",
    "interact(f, t = widgets.IntSlider(min = 0, max = array.shape[0] - 1, step = 1, value = 0, layout = Layout(width = '1200px')));\n"
   ]
  },
  {
   "cell_type": "markdown",
   "id": "6776ff96",
   "metadata": {},
   "source": [
    "# Visualize four faces through time"
   ]
  },
  {
   "cell_type": "code",
   "execution_count": 12,
   "id": "4150bd31",
   "metadata": {},
   "outputs": [
    {
     "data": {
      "application/vnd.jupyter.widget-view+json": {
       "model_id": "25dda8064a82421f92296916b86dcfee",
       "version_major": 2,
       "version_minor": 0
      },
      "text/plain": [
       "interactive(children=(IntSlider(value=0, description='t', layout=Layout(width='1200px'), max=256), Output()), …"

      ]
     },
     "metadata": {},
     "output_type": "display_data"
    },
    {
     "name": "stdout",
     "output_type": "stream",
     "text": [
      "CPU times: user 1min 10s, sys: 7.44 s, total: 1min 17s\n",
      "Wall time: 21.5 s\n"
     ]
    },
    {
     "data": {
      "text/plain": [
       "<function __main__.f(t)>"
      ]
     },
     "execution_count": 12,
     "metadata": {},
     "output_type": "execute_result"
    }
   ],
   "source": [
    "%%time\n",
    "%matplotlib inline\n",
    "\n",
    "downsampling = [2, 2, 2]\n",
    "\n",
    "array0 = None\n",
    "array1 = None\n",
    "array3 = None\n",
    "array4 = None\n",
    "\n",
    "with concurrent.futures.ThreadPoolExecutor() as executor:\n",
    "    accuracy = 0.01\n",
    "    future0 = executor.submit(i2p.Decode3f32, '/nobackupp19/vpascucc/converted_files/nasa-encoding-framework/llc2160/u-face-0-depth-0-time-0-1024.idx2', input_dir, downsampling, accuracy);\n",
    "    future1 = executor.submit(i2p.Decode3f32, '/nobackupp19/vpascucc/converted_files/nasa-encoding-framework/llc2160/u-face-1-depth-0-time-0-1024.idx2', input_dir, downsampling, accuracy);\n",
    "    future3 = executor.submit(i2p.Decode3f32, '/nobackupp19/vpascucc/converted_files/nasa-encoding-framework/llc2160/u-face-3-depth-0-time-0-1024.idx2', input_dir, downsampling, accuracy);\n",
    "    future4 = executor.submit(i2p.Decode3f32, '/nobackupp19/vpascucc/converted_files/nasa-encoding-framework/llc2160/u-face-4-depth-0-time-0-1024.idx2', input_dir, downsampling, accuracy);\n",
    "    array0 = future0.result()\n",
    "    array1 = future1.result()\n",
    "    array3 = future3.result()\n",
    "    array4 = future4.result()\n",
    "\n",
    "\n",
    "# vmin = min(np.min(array0), np.min(array1), np.min(array3), np.min(array4))\n",
    "# vmax = max(np.max(array0), np.max(array1), np.max(array3), np.max(array4))\n",
    "\n",
    "def f(t): # get time step t\n",
    "  fig, ((ax0, ax1, ax3, ax4)) = plt.subplots(1, 4, figsize=([15, 12]))\n",
    "  ax0.axis('off')\n",
    "  ax1.axis('off')\n",
    "  ax3.axis('off')\n",
    "  ax4.axis('off')\n",
    "\n",
    "  ax0.imshow(array0[t, :, :], origin = 'lower', cmap = my_cmap, aspect = 'auto', vmin = vmin, vmax = vmax)\n",
    "  ax1.imshow(array1[t, :, :], origin = 'lower', cmap = my_cmap, aspect = 'auto', vmin = vmin, vmax = vmax)\n",
    "  ax3.imshow(np.rot90(array3[t, :, :]), origin = 'lower', cmap = my_cmap, aspect = 'auto', vmin = vmin, vmax = vmax)\n",
    "  ax4.imshow(np.rot90(array4[t, :, :]), origin = 'lower', cmap = my_cmap, aspect = 'auto', vmin = vmin, vmax = vmax) \n",
    "  return  \n",
    "\n",
    "interact(f, t = widgets.IntSlider(min = 0, max = array1.shape[0] - 1, step = 1, value = 0, layout = Layout(width = '1200px')));"
   ]
  },
  {
   "cell_type": "markdown",
   "id": "b8d1a231",
   "metadata": {},
   "source": [
    "# Visualize four faces through depths"
   ]
  },
  {
   "cell_type": "code",
   "execution_count": 10,
   "id": "20348fd2",
   "metadata": {},
   "outputs": [
    {
     "data": {
      "application/vnd.jupyter.widget-view+json": {
       "model_id": "1e664431b6914deaacfdeca379e33754",
       "version_major": 2,
       "version_minor": 0
      },
      "text/plain": [
       "interactive(children=(IntSlider(value=0, description='d', layout=Layout(width='800px'), max=89), Output()), _d…"

      ]
     },
     "metadata": {},
     "output_type": "display_data"
    },
    {
     "name": "stdout",
     "output_type": "stream",
     "text": [
      "CPU times: total: 2.98 s\n",
      "Wall time: 1.32 s\n"
     ]
    },
    {
     "data": {
      "text/plain": [
       "<function __main__.f(d)>"
      ]
     },
     "execution_count": 10,
     "metadata": {},
     "output_type": "execute_result"
    }
   ],
   "source": [
    "%%time\n",
    "%matplotlib inline\n",
    "\n",
    "array0 = None\n",
    "array1 = None\n",
    "array3 = None\n",
    "array4 = None\n",
    "\n",
    "downsampling = [3, 3, 3]\n",
    "\n",
    "def f(d): # get time step t\n",
    "  with concurrent.futures.ThreadPoolExecutor() as executor:\n",
    "    accuracy = 0.01\n",
    "    future0 = executor.submit(i2p.Decode3f32, 'D:/Datasets/nasa/llc_2160_32/llc2160/u-face-0-depth-' + repr(d) + '-time-0-32.idx2', input_dir, downsampling, accuracy)    \n",
    "    future1 = executor.submit(i2p.Decode3f32, 'D:/Datasets/nasa/llc_2160_32/llc2160/u-face-1-depth-' + repr(d) + '-time-0-32.idx2', input_dir, downsampling, accuracy)\n",
    "    future3 = executor.submit(i2p.Decode3f32, 'D:/Datasets/nasa/llc_2160_32/llc2160/u-face-3-depth-' + repr(d) + '-time-0-32.idx2', input_dir, downsampling, accuracy)\n",
    "    future4 = executor.submit(i2p.Decode3f32, 'D:/Datasets/nasa/llc_2160_32/llc2160/u-face-4-depth-' + repr(d) + '-time-0-32.idx2', input_dir, downsampling, accuracy)\n",
    "    array0 = future0.result()\n",
    "    array1 = future1.result()\n",
    "    array3 = future3.result()\n",
    "    array4 = future4.result()\n",
    "    fig, ((ax0, ax1, ax3, ax4)) = plt.subplots(1, 4, figsize=([15, 12]))\n",
    "    ax0.axis('off')\n",
    "    ax1.axis('off')\n",
    "    ax3.axis('off')\n",
    "    ax4.axis('off')\n",
    "    ax0.imshow(array0[0, :, :], origin = 'lower', cmap = my_cmap, aspect = 'auto', vmin = vmin, vmax = vmax)\n",
    "    ax1.imshow(array1[0, :, :], origin = 'lower', cmap = my_cmap, aspect = 'auto', vmin = vmin, vmax = vmax)\n",
    "    ax3.imshow(np.rot90(array3[0, :, :]), origin = 'lower', cmap = my_cmap, aspect = 'auto', vmin = vmin, vmax = vmax)\n",
    "    ax4.imshow(np.rot90(array4[0, :, :]), origin = 'lower', cmap = my_cmap, aspect = 'auto', vmin = vmin, vmax = vmax) \n",
    "  return  \n",
    "\n",
    "interact(f, d = widgets.IntSlider(min = 0, max = 89, step = 1, value = 0, layout = Layout(width = '800px')));"
   ]
  },
  {
   "cell_type": "markdown",
   "id": "221c2daf",
   "metadata": {},
   "source": [
    "# Vertical slicing along y (constant x) at a particular time step"
   ]
  },
  {
   "cell_type": "code",
   "execution_count": 5,
   "id": "da9b4760",
   "metadata": {},
   "outputs": [
    {
     "data": {
      "application/vnd.jupyter.widget-view+json": {
       "model_id": "e8c667a25ae44072a3180b55186b8371",
       "version_major": 2,
       "version_minor": 0
      },
      "text/plain": [
       "interactive(children=(IntSlider(value=0, description='x', layout=Layout(width='800px'), max=8639, step=10), Ou…"

      ]
     },
     "metadata": {},
     "output_type": "display_data"
    },
    {
     "name": "stdout",
     "output_type": "stream",
     "text": [
      "CPU times: total: 37.5 s\n",
      "Wall time: 4.17 s\n"
     ]
    },
    {
     "data": {
      "text/plain": [
       "<function __main__.f(x)>"
      ]
     },
     "execution_count": 5,
     "metadata": {},
     "output_type": "execute_result"
    }
   ],
   "source": [
    "%%time\n",
    "%matplotlib inline\n",
    "\n",
    "downsampling = [2, 2, 2]\n",
    "\n",
    "timestep = 0\n",
    "ndepths = 90\n",
    "n = 2160\n",
    "\n",
    "def to_face(f):\n",
    "  if (f >= 2):\n",
    "    return f + 1;\n",
    "  return f\n",
    "    \n",
    "def f(x):\n",
    "  face = to_face(x // n)\n",
    "  xx = x % n # local x coordinate within the face\n",
    "  nx = 0\n",
    "  ny = ndepths\n",
    "  future_array = [None] * ndepths\n",
    "  with concurrent.futures.ThreadPoolExecutor() as executor:\n",
    "    for d in range(0, ndepths):  \n",
    "      extent = (xx, 0, timestep, 1, n * 3, 1)    \n",
    "      if (face > 2):\n",
    "        extent = (0, xx, timestep, n * 3, 1, 1)\n",
    "      #print(extent)\n",
    "      #print('D:/Datasets/nasa/llc_2160_32/llc2160/u-face-' + repr(face) + '-depth-' + repr(d) + '-time-0-32.idx2')\n",
    "      future_array[d] = executor.submit(i2p.DecodeExtent3f32, 'D:/Datasets/nasa/llc_2160_32/llc2160/u-face-' + repr(face) + '-depth-' + repr(d) + '-time-0-32.idx2', input_dir, extent, downsampling, accuracy)\n",
    "\n",
    "  array = None # store the whole result\n",
    "  for d in range(0, ndepths):\n",
    "    # figure out the shape of the output array once (at depth 0)\n",
    "    a = future_array[d].result()\n",
    "    #if (face > 2):\n",
    "      #a = np.rot90(a)\n",
    "    if d == 0:\n",
    "      print(a.shape)\n",
    "      if (face < 2):\n",
    "        nx = a.shape[1]\n",
    "      else:\n",
    "        nx = a.shape[2]\n",
    "      array = np.empty((ny, nx))\n",
    "      \n",
    "    if (face < 2):\n",
    "      array[d, :] = a[0, :, 0]\n",
    "    else:\n",
    "      array[d, :] = a[0, 0, :]\n",
    "    #array[d, :] = a[0, :, (xx * a.shape[2]) // n]\n",
    "\n",
    "  fig = plt.plot(figsize = ([1024, 90]))\n",
    "  plt.imshow(array, origin = 'lower', cmap = my_cmap, aspect = 'auto', vmin = vmin, vmax = vmax)\n",
    "  plt.show()\n",
    "  return\n",
    "\n",
    "interact(f, x = widgets.IntSlider(min = 0, max = 8639, step = 10, value = 0, layout = Layout(width = '800px')));"
   ]
  },
  {
   "cell_type": "code",
   "execution_count": null,
   "id": "d99b4ab7",
   "metadata": {},
   "outputs": [],
   "source": []
  }
 ],
 "metadata": {
  "interpreter": {
   "hash": "4da9a445269eaf7644d508d1b9c6a8048325acbe8141c1a0f1b98c2b970b1f1d"
  },
  "kernelspec": {
   "display_name": "Python 3 (ipykernel)",
   "language": "python",
   "name": "python3"
  },
  "language_info": {
   "codemirror_mode": {
    "name": "ipython",
    "version": 3
   },
   "file_extension": ".py",
   "mimetype": "text/x-python",
   "name": "python",
   "nbconvert_exporter": "python",
   "pygments_lexer": "ipython3",
   "version": "3.9.5"
  }
 },
 "nbformat": 4,
 "nbformat_minor": 5
}