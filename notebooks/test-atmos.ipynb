{
 "cells": [
  {
   "cell_type": "code",
   "execution_count": 1,
   "id": "76c411b2-79bd-4984-815f-af7b56a6be3f",
   "metadata": {},
   "outputs": [],
   "source": [
    "import sys\n",
    "sys.path.insert(0, '/home/sci/aashishp/NAS/idx2/idx2/build/Source/Python/')\n",
    "import idx2Py as i2p\n",
    "import numpy as np\n",
    "from matplotlib import pyplot as plt\n",
    "from ipywidgets import *\n",
    "# from apscheduler.schedulers.blocking import BlockingScheduler"
   ]
  },
  {
   "cell_type": "code",
   "execution_count": 2,
   "id": "7154a107-015b-44a8-bece-e63a97436630",
   "metadata": {},
   "outputs": [
    {
     "name": "stdout",
     "output_type": "stream",
     "text": [
      "CPU times: user 4 µs, sys: 1 µs, total: 5 µs\n",
      "Wall time: 9.06 µs\n"
     ]
    }
   ],
   "source": [
    "%%time\n",
    "input_dir  = '/home/sci/aashishp/NAS/idx2/nasa-encoding-framework/'\n",
    "downsampling = [2,2,2]\n",
    "accuracy = 0.1\n",
    "# vmin = -6.14770936965942382812\n",
    "# vmax = 1.24035537242889404297\n"
   ]
  },
  {
   "cell_type": "markdown",
   "id": "fdd7ddc1-76e3-4bd5-bc49-437564f9795d",
   "metadata": {},
   "source": [
    "# Visualize a single face through time"
   ]
  },
  {
   "cell_type": "code",
   "execution_count": 4,
   "id": "848a8ea1-f08e-4df0-aac2-fc5bd67f2082",
   "metadata": {},
   "outputs": [
    {
     "name": "stdout",
     "output_type": "stream",
     "text": [
      "[2, 2, 2]\n"
     ]
    },
    {
     "data": {
      "application/vnd.jupyter.widget-view+json": {
       "model_id": "47d213c77a0d4ca49c7a753d72ec8de4",
       "version_major": 2,
       "version_minor": 0
      },
      "text/plain": [
       "interactive(children=(IntSlider(value=0, description='t', layout=Layout(width='500px'), max=255), Output()), _…"
      ]
     },
     "metadata": {},
     "output_type": "display_data"
    }
   ],
   "source": [
    "%matplotlib inline\n",
    "print(downsampling)\n",
    "array = i2p.Decode3f32('/home/sci/aashishp/NAS/idx2/nasa-encoding-framework/atmosphere/atm-face-5-depth-0-time-0-1024.idx2', input_dir, downsampling, accuracy)\n",
    "vmin=np.min(array)\n",
    "vmax=np.max(array)\n",
    "plot = None\n",
    "def f(t): # get time step t\n",
    "    fig = plt.figure(figsize = (10,10))\n",
    "    plot = plt.imshow(array[t, :, :], origin = 'lower', cmap='coolwarm',aspect = 'auto', vmin = vmin, vmax = vmax)\n",
    "  # plot.set_data(array[t, ::2, ::2])\n",
    "    plt.show()\n",
    "    return\n",
    "\n",
    "interact(f, t = widgets.IntSlider(min = 0, max = array.shape[0] - 2, step = 1, value = 0, layout = Layout(width = '500px')));\n"
   ]
  },
  {
   "cell_type": "code",
   "execution_count": 5,
   "id": "0b5821ee-c06f-44fc-bc55-758bf0f9a44d",
   "metadata": {},
   "outputs": [],
   "source": [
    "import concurrent.futures\n",
    "\n",
    "%matplotlib inline\n",
    "array0 = None\n",
    "array1 = None\n",
    "array3 = None\n",
    "array4 = None\n",
    "array5=None\n",
    "array6=None\n",
    "# scheduler = BlockingScheduler()\n",
    "with concurrent.futures.ThreadPoolExecutor() as executor:\n",
    "    accuracy = 0.01\n",
    "    future0 = executor.submit(i2p.Decode3f32, '/home/sci/aashishp/NAS/idx2/nasa-encoding-framework/atmosphere/atm-face-0-depth-0-time-0-1024.idx2', input_dir, downsampling, accuracy)    \n",
    "    future1 = executor.submit(i2p.Decode3f32, '/home/sci/aashishp/NAS/idx2/nasa-encoding-framework/atmosphere/atm-face-1-depth-0-time-0-1024.idx2', input_dir, downsampling, accuracy)\n",
    "    future3 = executor.submit(i2p.Decode3f32, '/home/sci/aashishp/NAS/idx2/nasa-encoding-framework/atmosphere/atm-face-2-depth-0-time-0-1024.idx2', input_dir, downsampling, accuracy)\n",
    "    future4 = executor.submit(i2p.Decode3f32, '/home/sci/aashishp/NAS/idx2/nasa-encoding-framework/atmosphere/atm-face-3-depth-0-time-0-1024.idx2', input_dir, downsampling, accuracy)\n",
    "    future5 = executor.submit(i2p.Decode3f32, '/home/sci/aashishp/NAS/idx2/nasa-encoding-framework/atmosphere/atm-face-4-depth-0-time-0-1024.idx2', input_dir, downsampling, accuracy)\n",
    "    future6 = executor.submit(i2p.Decode3f32, '/home/sci/aashishp/NAS/idx2/nasa-encoding-framework/atmosphere/atm-face-5-depth-0-time-0-1024.idx2', input_dir, downsampling, accuracy)\n",
    "    \n",
    "    array0 = future0.result()\n",
    "    array1 = future1.result()\n",
    "    array3 = future3.result()\n",
    "    array4 = future4.result()\n",
    "    array5 = future5.result()\n",
    "    array6 = future6.result()\n",
    "\n",
    "\n",
    "# vmin = min(np.min(array0), np.min(array1), np.min(array3), np.min(array4),np.min(array5),np.min(array6))\n",
    "# vmax = max(np.max(array0), np.max(array1), np.max(array3), np.max(array4),np.min(array4),np.min(array5),np.min(array6))\n",
    "\n"
   ]
  },
  {
   "cell_type": "code",
   "execution_count": 8,
   "id": "72a46b2b-e146-46e8-a068-a6cd148f7021",
   "metadata": {},
   "outputs": [
    {
     "data": {
      "application/vnd.jupyter.widget-view+json": {
       "model_id": "ad18f2215a5f4cceb8a9c71c6054128b",
       "version_major": 2,
       "version_minor": 0
      },
      "text/plain": [
       "interactive(children=(IntSlider(value=0, description='t', layout=Layout(width='700px'), max=255), Output()), _…"
      ]
     },
     "metadata": {},
     "output_type": "display_data"
    }
   ],
   "source": [
    "def f(t): # get time step t\n",
    "    fig, ((ax0, ax1, ax3, ax4,ax5,ax6)) = plt.subplots(1, 6, figsize=([30, 15]))\n",
    "    ax0.axis('off')\n",
    "    ax1.axis('off')\n",
    "    ax3.axis('off')\n",
    "    ax4.axis('off')\n",
    "    ax5.axis('off')\n",
    "    ax6.axis('off')\n",
    "\n",
    "    ax0.imshow(array0[t, ::6, ::6], origin = 'lower',cmap='coolwarm', aspect = 'auto', vmin = vmin, vmax = vmax)\n",
    "    ax1.imshow(array1[t, ::6, ::6], origin = 'lower',cmap='coolwarm',  aspect = 'auto', vmin = vmin, vmax = vmax)\n",
    "    ax3.imshow(np.rot90(array3[t, ::6, ::6]), origin = 'lower', cmap='coolwarm', aspect = 'auto', vmin = vmin, vmax = vmax)\n",
    "    ax4.imshow(np.rot90(array4[t, ::6, ::6]), origin = 'lower', cmap='coolwarm', aspect = 'auto', vmin = vmin, vmax = vmax)  \n",
    "    ax5.imshow(np.rot90(array5[t, ::6, ::6]), origin = 'lower',cmap='coolwarm', aspect = 'auto', vmin = vmin, vmax = vmax)\n",
    "    ax6.imshow(np.rot90(array6[t, ::6, ::6]), origin = 'lower',cmap='coolwarm',  aspect = 'auto', vmin = vmin, vmax = vmax) \n",
    "    return  \n",
    "\n",
    "interact(f, t = widgets.IntSlider(min = 0, max = array1.shape[0] - 2, step = 1, value = 0, layout = Layout(width = '700px')));\n",
    "# scheduler.start()"
   ]
  },
  {
   "cell_type": "markdown",
   "id": "594bc7bb-ef48-47c5-9735-d05f88aa49be",
   "metadata": {},
   "source": [
    "### Visualize four faces through depths"
   ]
  },
  {
   "cell_type": "code",
   "execution_count": 21,
   "id": "83c586fe-fbea-4d9c-9062-0259b0dcf102",
   "metadata": {},
   "outputs": [
    {
     "data": {
      "application/vnd.jupyter.widget-view+json": {
       "model_id": "bd0868fdedea4166a6d7655a0bd178b3",
       "version_major": 2,
       "version_minor": 0
      },
      "text/plain": [
       "interactive(children=(IntSlider(value=0, description='d', layout=Layout(width='800px'), max=52), Output()), _d…"
      ]
     },
     "metadata": {},
     "output_type": "display_data"
    }
   ],
   "source": [
    "%matplotlib inline\n",
    "level = 2\n",
    "accuracy = 0.1\n",
    "with concurrent.futures.ThreadPoolExecutor() as executor:\n",
    "    array0 = executor.submit(i2p.Decode3f32, '/home/sci/aashishp/NAS/idx2/nasa-encoding-framework/atmosphere/atm-face-0-depth-0-time-0-1024.idx2', input_dir, downsampling, accuracy)    \n",
    "    array1 = executor.submit(i2p.Decode3f32, '/home/sci/aashishp/NAS/idx2/nasa-encoding-framework/atmosphere/atm-face-1-depth-0-time-0-1024.idx2', input_dir, downsampling, accuracy)\n",
    "    array3 = executor.submit(i2p.Decode3f32, '/home/sci/aashishp/NAS/idx2/nasa-encoding-framework/atmosphere/atm-face-2-depth-0-time-0-1024.idx2', input_dir, downsampling, accuracy)\n",
    "    array4 = executor.submit(i2p.Decode3f32, '/home/sci/aashishp/NAS/idx2/nasa-encoding-framework/atmosphere/atm-face-3-depth-0-time-0-1024.idx2', input_dir, downsampling, accuracy)\n",
    "    array5 = executor.submit(i2p.Decode3f32, '/home/sci/aashishp/NAS/idx2/nasa-encoding-framework/atmosphere/atm-face-4-depth-0-time-0-1024.idx2', input_dir, downsampling, accuracy)\n",
    "    array6 = executor.submit(i2p.Decode3f32, '/home/sci/aashishp/NAS/idx2/nasa-encoding-framework/atmosphere/atm-face-5-depth-0-time-0-1024.idx2', input_dir, downsampling, accuracy)\n",
    "    array0 = array0.result()\n",
    "    array1 = array1.result()\n",
    "    array3 = array3.result()\n",
    "    array4 = array4.result()\n",
    "    array5 = array5.result()\n",
    "    array6 = array6.result()\n",
    "\n",
    "def f(d): # get time step t\n",
    "\n",
    "    fig, ((ax0, ax1, ax3, ax4,ax5,ax6)) = plt.subplots(1, 6, figsize=([15, 12]))\n",
    "    ax0.axis('off')\n",
    "    ax1.axis('off')\n",
    "    ax3.axis('off')\n",
    "    ax4.axis('off')\n",
    "    ax5.axis('off')\n",
    "    ax6.axis('off')\n",
    "    ax0.imshow(array0[0, ::2, ::2], origin = 'lower', cmap = 'tab20c', aspect = 'auto', vmin = vmin, vmax = vmax)\n",
    "    ax1.imshow(array1[0, ::2, ::2], origin = 'lower', cmap = 'tab20c', aspect = 'auto', vmin = vmin, vmax = vmax)\n",
    "    ax3.imshow(np.rot90(array3[0, ::2, ::2]), origin = 'lower', cmap = 'tab20c', aspect = 'auto', vmin = vmin, vmax = vmax)\n",
    "    ax4.imshow(np.rot90(array4[0, ::2, ::2]), origin = 'lower', cmap = 'tab20c', aspect = 'auto', vmin = vmin, vmax = vmax)\n",
    "    ax5.imshow(np.rot90(array5[0, ::2, ::2]), origin = 'lower', cmap = 'tab20c', aspect = 'auto', vmin = vmin, vmax = vmax)\n",
    "    ax6.imshow(np.rot90(array6[0, ::2, ::2]), origin = 'lower', cmap = 'tab20c', aspect = 'auto', vmin = vmin, vmax = vmax)\n",
    "    return  \n",
    "\n",
    "interact(f, d = widgets.IntSlider(min = 0, max = 52, step = 1, value = 0, layout = Layout(width = '800px')));\n"
   ]
  },
  {
   "cell_type": "code",
   "execution_count": null,
   "id": "6127d4f1-3f35-44d9-9eb9-af2bcdbdb75b",
   "metadata": {},
   "outputs": [],
   "source": []
  },
  {
   "cell_type": "code",
   "execution_count": null,
   "id": "7d6cd269-31d2-480b-8893-5ef2160cd3fd",
   "metadata": {},
   "outputs": [],
   "source": []
  }
 ],
 "metadata": {
  "kernelspec": {
   "display_name": "Python 3",
   "language": "python",
   "name": "python3"
  },
  "language_info": {
   "codemirror_mode": {
    "name": "ipython",
    "version": 3
   },
   "file_extension": ".py",
   "mimetype": "text/x-python",
   "name": "python",
   "nbconvert_exporter": "python",
   "pygments_lexer": "ipython3",
   "version": "3.9.12"
  }
 },
 "nbformat": 4,
 "nbformat_minor": 5
}
