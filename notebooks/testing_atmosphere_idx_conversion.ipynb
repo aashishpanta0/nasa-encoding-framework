{
 "cells": [
  {
   "cell_type": "code",
   "execution_count": 1,
   "id": "e2ebf7b4-9aef-46e2-83b7-dc902a0ef784",
   "metadata": {},
   "outputs": [
    {
     "name": "stdout",
     "output_type": "stream",
     "text": [
      "Starting OpenVisus /home/sci/aashishp/anaconda3/lib/python3.9/site-packages/OpenVisus/__init__.py 3.9.12 (main, Apr  5 2022, 06:56:58) \n",
      "[GCC 7.5.0] sys.version_info(major=3, minor=9, micro=12, releaselevel='final', serial=0) ...\n"
     ]
    }
   ],
   "source": [
    "import numpy as np\n",
    "import pandas as pd\n",
    "import xarray as xr\n",
    "from OpenVisus import *\n",
    "from tqdm import tqdm\n",
    "import matplotlib.pyplot as plt\n",
    "import concurrent.futures"
   ]
  },
  {
   "cell_type": "code",
   "execution_count": 2,
   "id": "7bb5cbd9-974d-4ca5-bbf2-9d26b82a708a",
   "metadata": {},
   "outputs": [],
   "source": []
  },
  {
   "cell_type": "code",
   "execution_count": 3,
   "id": "02cfc428-63b0-4625-b6d7-9d8760399b68",
   "metadata": {},
   "outputs": [
    {
     "data": {
      "text/plain": [
       "1024"
      ]
     },
     "execution_count": 3,
     "metadata": {},
     "output_type": "execute_result"
    }
   ],
   "source": [
    "from_dir='/usr/sci/cedmav/hello/atmosphere_nc4/'\n",
    "\n",
    "raw_files=[]\n",
    "for file in os.listdir(from_dir):\n",
    "    raw_files.append(file)\n",
    "raw_files.sort()\n",
    "len(raw_files)"
   ]
  },
  {
   "cell_type": "code",
   "execution_count": 4,
   "id": "c58c9241-411a-4dc6-98c5-662ebfac0dfb",
   "metadata": {},
   "outputs": [],
   "source": [
    "\n",
    "field=[Field('u','float32')]\n",
    "def conversion(input_dir,file_face):\n",
    "    filename='u_face_'+str(file_face)+'_depth_52_time_1024.idx'\n",
    "    os.chdir('/usr/sci/cedmav/files/idx1_files/NASA_atmosphere/')\n",
    "    db=CreateIdx(url=filename,dims=[1440,1440,52],fields=field,time=[1,1024,\"time%00000d/\"],bitmask=\"V0101010120120120120120120101\")\n",
    "    # db=LoadDataset(filename)\n",
    "    timesteps=[int(it) for it in db.getTimesteps().asVector()]\n",
    "    for t in tqdm(timesteps):\n",
    "        file_num=t-1\n",
    "        file_path=os.path.join(input_dir,raw_files[file_num])\n",
    "        data=xr.open_dataset(file_path);\n",
    "        for f in db.getFields():\n",
    "            if file_face==0:\n",
    "                db.write(data.U[0,:,0:1440,:].values,field=f,time=t)  \n",
    "            if file_face==1:\n",
    "                db.write(data.U[0,:,1440:2880,:].values,field=f,time=t)\n",
    "                \n",
    "    \n",
    "    "
   ]
  },
  {
   "cell_type": "code",
   "execution_count": 5,
   "id": "9316e73c-d2c3-4f11-8326-26c780bbbe56",
   "metadata": {},
   "outputs": [
    {
     "name": "stderr",
     "output_type": "stream",
     "text": [
      "100%|██████████| 1024/1024 [13:02:01<00:00, 45.82s/it] \n"
     ]
    }
   ],
   "source": [
    "with concurrent.futures.ThreadPoolExecutor() as executor:\n",
    "    future0 = executor.submit(conversion, from_dir,0)    \n",
    "    # future1 = executor.submit(conversion, from_dir,1)\n",
    "    a=future0.result()\n",
    "    # b=future1.result()\n",
    "    \n",
    "    "
   ]
  },
  {
   "cell_type": "code",
   "execution_count": 4,
   "id": "28f4440a-8a2b-4adb-9204-9152af1dfa75",
   "metadata": {
    "tags": []
   },
   "outputs": [
    {
     "name": "stderr",
     "output_type": "stream",
     "text": [
      "  0%|          | 0/1024 [00:00<?, ?it/s]\n",
      "  0%|          | 0/1024 [00:00<?, ?it/s]\u001b[A\n",
      "  0%|          | 1/1024 [00:04<1:24:27,  4.95s/it]\u001b[A\n",
      "  2%|▏         | 17/1024 [00:06<04:38,  3.62it/s] \u001b[A\n",
      "  3%|▎         | 33/1024 [00:07<02:35,  6.36it/s]\u001b[A\n",
      "  5%|▍         | 49/1024 [00:08<01:55,  8.46it/s]\u001b[A\n",
      "  6%|▋         | 65/1024 [00:09<01:35, 10.05it/s]\u001b[A\n",
      "  8%|▊         | 81/1024 [00:10<01:24, 11.21it/s]\u001b[A\n",
      "  9%|▉         | 97/1024 [00:11<01:16, 12.06it/s]\u001b[A\n",
      " 11%|█         | 113/1024 [00:12<01:11, 12.67it/s]\u001b[A\n",
      " 13%|█▎        | 129/1024 [00:14<01:08, 13.12it/s]\u001b[A\n",
      " 14%|█▍        | 145/1024 [00:15<01:05, 13.35it/s]\u001b[A\n",
      " 16%|█▌        | 161/1024 [00:16<01:05, 13.19it/s]\u001b[A\n",
      " 17%|█▋        | 177/1024 [00:17<01:03, 13.42it/s]\u001b[A\n",
      " 19%|█▉        | 193/1024 [00:18<01:01, 13.61it/s]\u001b[A\n",
      " 20%|██        | 209/1024 [00:19<00:59, 13.73it/s]\u001b[A\n",
      " 22%|██▏       | 225/1024 [00:20<00:57, 13.83it/s]\u001b[A\n",
      " 24%|██▎       | 241/1024 [00:22<00:56, 13.89it/s]\u001b[A\n",
      " 25%|██▌       | 257/1024 [00:23<00:55, 13.91it/s]\u001b[A\n",
      " 27%|██▋       | 273/1024 [00:24<01:00, 12.45it/s]\u001b[A\n",
      " 28%|██▊       | 289/1024 [00:26<01:02, 11.81it/s]\u001b[A\n",
      " 30%|██▉       | 305/1024 [00:28<01:09, 10.39it/s]\u001b[A\n",
      " 31%|███▏      | 321/1024 [00:30<01:15,  9.35it/s]\u001b[A\n",
      " 33%|███▎      | 337/1024 [00:33<01:28,  7.76it/s]\u001b[A\n",
      " 34%|███▍      | 353/1024 [00:36<01:42,  6.53it/s]\u001b[A\n",
      " 36%|███▌      | 369/1024 [00:40<01:51,  5.88it/s]\u001b[A\n",
      " 38%|███▊      | 385/1024 [00:43<01:58,  5.40it/s]\u001b[A\n",
      " 39%|███▉      | 401/1024 [00:47<02:02,  5.10it/s]\u001b[A\n",
      " 41%|████      | 417/1024 [00:50<02:02,  4.95it/s]\u001b[A\n",
      " 42%|████▏     | 433/1024 [00:54<02:04,  4.75it/s]\u001b[A\n",
      " 44%|████▍     | 449/1024 [00:57<02:03,  4.67it/s]\u001b[A\n",
      " 45%|████▌     | 465/1024 [01:01<02:01,  4.59it/s]\u001b[A\n",
      " 47%|████▋     | 481/1024 [01:05<02:00,  4.52it/s]\u001b[A\n",
      " 49%|████▊     | 497/1024 [01:08<01:56,  4.51it/s]\u001b[A\n",
      " 50%|█████     | 513/1024 [01:12<01:53,  4.51it/s]\u001b[A\n",
      " 52%|█████▏    | 529/1024 [01:15<01:51,  4.46it/s]\u001b[A\n",
      " 53%|█████▎    | 545/1024 [01:19<01:48,  4.40it/s]\u001b[A\n",
      " 55%|█████▍    | 561/1024 [01:23<01:48,  4.27it/s]\u001b[A\n",
      " 56%|█████▋    | 577/1024 [01:27<01:41,  4.39it/s]\u001b[A\n",
      " 58%|█████▊    | 593/1024 [01:30<01:36,  4.47it/s]\u001b[A\n",
      " 59%|█████▉    | 609/1024 [01:34<01:32,  4.47it/s]\u001b[A\n",
      " 61%|██████    | 625/1024 [01:37<01:29,  4.48it/s]\u001b[A\n",
      " 63%|██████▎   | 641/1024 [01:41<01:24,  4.53it/s]\u001b[A\n",
      " 64%|██████▍   | 657/1024 [01:44<01:21,  4.49it/s]\u001b[A\n",
      " 66%|██████▌   | 673/1024 [01:48<01:17,  4.52it/s]\u001b[A\n",
      " 67%|██████▋   | 689/1024 [01:51<01:14,  4.47it/s]\u001b[A\n",
      " 69%|██████▉   | 705/1024 [01:55<01:11,  4.43it/s]\u001b[A\n",
      " 70%|███████   | 721/1024 [01:59<01:07,  4.46it/s]\u001b[A\n",
      " 72%|███████▏  | 737/1024 [02:02<01:04,  4.43it/s]\u001b[A\n",
      " 74%|███████▎  | 753/1024 [02:06<01:00,  4.47it/s]\u001b[A\n",
      " 75%|███████▌  | 769/1024 [02:09<00:57,  4.46it/s]\u001b[A\n",
      " 77%|███████▋  | 785/1024 [02:13<00:53,  4.47it/s]\u001b[A\n",
      " 78%|███████▊  | 801/1024 [02:16<00:49,  4.51it/s]\u001b[A\n",
      " 80%|███████▉  | 817/1024 [02:20<00:46,  4.46it/s]\u001b[A\n",
      " 81%|████████▏ | 833/1024 [02:24<00:43,  4.42it/s]\u001b[A\n",
      " 83%|████████▎ | 849/1024 [02:27<00:39,  4.43it/s]\u001b[A\n",
      " 84%|████████▍ | 865/1024 [02:31<00:35,  4.43it/s]\u001b[A\n",
      " 86%|████████▌ | 881/1024 [02:34<00:32,  4.46it/s]\u001b[A\n",
      " 88%|████████▊ | 897/1024 [02:38<00:28,  4.49it/s]\u001b[A\n",
      " 89%|████████▉ | 913/1024 [02:41<00:24,  4.53it/s]\u001b[A\n",
      " 91%|█████████ | 929/1024 [02:45<00:21,  4.47it/s]\u001b[A\n",
      " 92%|█████████▏| 945/1024 [02:49<00:17,  4.43it/s]\u001b[A\n",
      " 94%|█████████▍| 961/1024 [02:53<00:14,  4.40it/s]\u001b[A\n",
      " 95%|█████████▌| 977/1024 [02:56<00:10,  4.39it/s]\u001b[A\n",
      " 97%|█████████▋| 993/1024 [03:00<00:07,  4.37it/s]\u001b[A\n",
      "100%|██████████| 1024/1024 [03:04<00:00,  5.56it/s]\u001b[A\n",
      "  0%|          | 1/1024 [03:04<52:20:44, 184.21s/it]\n",
      "  0%|          | 0/1024 [00:00<?, ?it/s]\u001b[A\n",
      "  0%|          | 1/1024 [00:06<1:50:53,  6.50s/it]\u001b[A\n",
      "  2%|▏         | 17/1024 [00:08<06:40,  2.52it/s] \u001b[A\n",
      "  3%|▎         | 33/1024 [00:11<04:18,  3.83it/s]\u001b[A\n",
      "  6%|▋         | 64/1024 [00:18<04:30,  3.55it/s]\u001b[A\n",
      "  0%|          | 1/1024 [03:22<57:28:48, 202.28s/it]\n"
     ]
    },
    {
     "ename": "KeyboardInterrupt",
     "evalue": "",
     "output_type": "error",
     "traceback": [
      "\u001b[0;31m---------------------------------------------------------------------------\u001b[0m",
      "\u001b[0;31mKeyboardInterrupt\u001b[0m                         Traceback (most recent call last)",
      "Input \u001b[0;32mIn [4]\u001b[0m, in \u001b[0;36m<cell line: 3>\u001b[0;34m()\u001b[0m\n\u001b[1;32m     12\u001b[0m \u001b[38;5;28;01mif\u001b[39;00m t\u001b[38;5;241m%\u001b[39m\u001b[38;5;241m16\u001b[39m\u001b[38;5;241m==\u001b[39m\u001b[38;5;241m1\u001b[39m \u001b[38;5;129;01mand\u001b[39;00m t\u001b[38;5;241m<\u001b[39m\u001b[38;5;241m1025\u001b[39m:\n\u001b[1;32m     13\u001b[0m     \u001b[38;5;28;01mfor\u001b[39;00m f \u001b[38;5;129;01min\u001b[39;00m db\u001b[38;5;241m.\u001b[39mgetFields():\n\u001b[1;32m     14\u001b[0m     \u001b[38;5;66;03m# print(t)\u001b[39;00m\n\u001b[0;32m---> 15\u001b[0m         \u001b[43mdb\u001b[49m\u001b[38;5;241;43m.\u001b[39;49m\u001b[43mwrite\u001b[49m\u001b[43m(\u001b[49m\u001b[43mdata\u001b[49m\u001b[38;5;241;43m.\u001b[39;49m\u001b[43mU\u001b[49m\u001b[43m[\u001b[49m\u001b[38;5;241;43m0\u001b[39;49m\u001b[43m,\u001b[49m\u001b[43m:\u001b[49m\u001b[43m,\u001b[49m\u001b[38;5;241;43m0\u001b[39;49m\u001b[43m:\u001b[49m\u001b[38;5;241;43m1440\u001b[39;49m\u001b[43m,\u001b[49m\u001b[43m:\u001b[49m\u001b[43m]\u001b[49m\u001b[38;5;241;43m.\u001b[39;49m\u001b[43mvalues\u001b[49m\u001b[43m,\u001b[49m\u001b[43mfield\u001b[49m\u001b[38;5;241;43m=\u001b[39;49m\u001b[43mf\u001b[49m\u001b[43m,\u001b[49m\u001b[43mtime\u001b[49m\u001b[38;5;241;43m=\u001b[39;49m\u001b[43mt\u001b[49m\u001b[43m)\u001b[49m\n",
      "File \u001b[0;32m~/anaconda3/lib/python3.9/site-packages/OpenVisus/dataset.py:399\u001b[0m, in \u001b[0;36mPyDataset.write\u001b[0;34m(self, data, x, y, z, logic_box, time, field, access)\u001b[0m\n\u001b[1;32m    395\u001b[0m buffer\u001b[38;5;241m.\u001b[39mresize(PointNi(dims),query\u001b[38;5;241m.\u001b[39mfield\u001b[38;5;241m.\u001b[39mdtype,\u001b[38;5;18m__file__\u001b[39m,\u001b[38;5;241m0\u001b[39m)\n\u001b[1;32m    397\u001b[0m query\u001b[38;5;241m.\u001b[39mbuffer\u001b[38;5;241m=\u001b[39mbuffer\n\u001b[0;32m--> 399\u001b[0m \u001b[38;5;28;01mif\u001b[39;00m \u001b[38;5;129;01mnot\u001b[39;00m \u001b[38;5;28;43mself\u001b[39;49m\u001b[38;5;241;43m.\u001b[39;49m\u001b[43mdb\u001b[49m\u001b[38;5;241;43m.\u001b[39;49m\u001b[43mexecuteBoxQuery\u001b[49m\u001b[43m(\u001b[49m\u001b[43maccess\u001b[49m\u001b[43m,\u001b[49m\u001b[43m \u001b[49m\u001b[43mquery\u001b[49m\u001b[43m)\u001b[49m:\n\u001b[1;32m    400\u001b[0m \t\u001b[38;5;28;01mraise\u001b[39;00m \u001b[38;5;167;01mException\u001b[39;00m(\u001b[38;5;124m\"\u001b[39m\u001b[38;5;124mquery error \u001b[39m\u001b[38;5;132;01m{0}\u001b[39;00m\u001b[38;5;124m\"\u001b[39m\u001b[38;5;241m.\u001b[39mformat(query\u001b[38;5;241m.\u001b[39merrormsg))\n",
      "File \u001b[0;32m~/anaconda3/lib/python3.9/site-packages/OpenVisus/VisusDbPy.py:960\u001b[0m, in \u001b[0;36mDataset.executeBoxQuery\u001b[0;34m(self, access, query)\u001b[0m\n\u001b[1;32m    959\u001b[0m \u001b[38;5;28;01mdef\u001b[39;00m \u001b[38;5;21mexecuteBoxQuery\u001b[39m(\u001b[38;5;28mself\u001b[39m, access, query):\n\u001b[0;32m--> 960\u001b[0m     \u001b[38;5;28;01mreturn\u001b[39;00m \u001b[43m_VisusDbPy\u001b[49m\u001b[38;5;241;43m.\u001b[39;49m\u001b[43mDataset_executeBoxQuery\u001b[49m\u001b[43m(\u001b[49m\u001b[38;5;28;43mself\u001b[39;49m\u001b[43m,\u001b[49m\u001b[43m \u001b[49m\u001b[43maccess\u001b[49m\u001b[43m,\u001b[49m\u001b[43m \u001b[49m\u001b[43mquery\u001b[49m\u001b[43m)\u001b[49m\n",
      "\u001b[0;31mKeyboardInterrupt\u001b[0m: "
     ]
    }
   ],
   "source": [
    "\n",
    "field=[Field('u','float32')]\n",
    "file_face=0\n",
    "os.chdir('/hdscratch/test/')\n",
    "filename='test_face_'+str(file_face)+'_depth_52_time_10269.idx'\n",
    "db=CreateIdx(url=filename,dims=[1440,1440,52],fields=field,time=[1,10269,\"time%00000d/\"],bitmask=\"V0101010120120120120120120101\")\n",
    "timesteps=[int(it) for it in db.getTimesteps().asVector()]\n",
    "for t in tqdm(timesteps):\n",
    "    if t%2==0:\n",
    "        file_num=t-1\n",
    "        file_path=os.path.join(from_dir,raw_files[file_num])\n",
    "        data=xr.open_dataset(file_path);\n",
    "        for f in db.getFields():\n",
    "            db.write(data.U[0,:,0:1440,:].values,field=f,time=t)          \n",
    "\n",
    "           \n",
    "\n",
    "\n",
    "    \n",
    "        \n",
    "        \n",
    "    \n",
    "    \n",
    "    "
   ]
  },
  {
   "cell_type": "code",
   "execution_count": null,
   "id": "9c2b8516-62a5-454c-a723-57948300e7e3",
   "metadata": {},
   "outputs": [],
   "source": [
    "\n",
    "file_face=1\n",
    "field=[Field('u','float32')]\n",
    "\n",
    "for files in tqdm(raw_files):\n",
    "    file_path=os.path.join(from_dir,files)\n",
    "    data=xr.open_dataset(file_path);\n",
    "    os.chdir('/hdscratch/test/')\n",
    "    filename='face_'+str(file_face)+'_depth_52_time_1024.idx'\n",
    "\n",
    "    db=CreateIdx(url=filename,dims=[1440,1440,52],fields=field,time=[1,1024,\"time%00000d/\"],bitmask=\"V0101010120120120120120120101\")\n",
    "    timesteps=[int(it) for it in db.getTimesteps().asVector()]\n",
    "    for t in timesteps:\n",
    "        if t%16==1 and t<1025:\n",
    "            for f in db.getFields():\n",
    "            # print(t)\n",
    "                db.write(data.U[0,:,1440:2880,:].values,field=f,time=t)\n",
    "\n",
    "\n",
    "        \n",
    "        \n",
    "    \n",
    "    \n",
    "    "
   ]
  },
  {
   "cell_type": "code",
   "execution_count": null,
   "id": "719157fd-ed90-422c-a541-ca16b9d94ab9",
   "metadata": {},
   "outputs": [],
   "source": [
    "t=1\n",
    "file_face=2\n",
    "field=[Field('u','float32')]\n",
    "\n",
    "for files in tqdm(raw_files):\n",
    "    file_path=os.path.join(from_dir,files)\n",
    "    data=xr.open_dataset(file_path);\n",
    "    os.chdir('/hdscratch/test/')\n",
    "    filename='face_'+str(file_face)+'_depth_52_time_1024.idx'\n",
    "\n",
    "    db=CreateIdx(url=filename,dims=[1440,1440,52],fields=field,time=[1,1024,\"time%00000d/\"],bitmask=\"V0101010120120120120120120101\")\n",
    "    timesteps=[int(it) for it in db.getTimesteps().asVector()]\n",
    "    for t in timesteps:\n",
    "        if t%16==1 and t<1025:\n",
    "            for f in db.getFields():\n",
    "            # print(t)\n",
    "                db.write(data.U[0,:,2880:4320,:].values,field=f,time=t)\n",
    "\n",
    "\n",
    "        "
   ]
  },
  {
   "cell_type": "code",
   "execution_count": null,
   "id": "f8c901a7-1a36-4a60-9f4e-9199f5b2bbcf",
   "metadata": {},
   "outputs": [],
   "source": [
    "t=1\n",
    "file_face=3\n",
    "field=[Field('u','float32')]\n",
    "\n",
    "for files in tqdm(raw_files):\n",
    "    file_path=os.path.join(from_dir,files)\n",
    "    data=xr.open_dataset(file_path);\n",
    "    os.chdir('/hdscratch/test/')\n",
    "    filename='face_'+str(file_face)+'_depth_52_time_1024.idx'\n",
    "\n",
    "    db=CreateIdx(url=filename,dims=[1440,1440,52],fields=field,time=[1,1024,\"time%00000d/\"],bitmask=\"V0101010120120120120120120101\")\n",
    "    timesteps=[int(it) for it in db.getTimesteps().asVector()]\n",
    "    for t in timesteps:\n",
    "        if t%16==1 and t<1025:\n",
    "            for f in db.getFields():\n",
    "            # print(t)\n",
    "                db.write(data.U[0,:,4320:5760,:].values,field=f,time=t)\n",
    "\n",
    "\n",
    "        "
   ]
  },
  {
   "cell_type": "code",
   "execution_count": null,
   "id": "485cbe7e-c561-4d27-a92f-ebfd1b51094c",
   "metadata": {},
   "outputs": [],
   "source": [
    "t=1\n",
    "file_face=4\n",
    "field=[Field('u','float32')]\n",
    "\n",
    "for files in tqdm(raw_files):\n",
    "    file_path=os.path.join(from_dir,files)\n",
    "    data=xr.open_dataset(file_path);\n",
    "    os.chdir('/hdscratch/test/')\n",
    "    filename='face_'+str(file_face)+'_depth_52_time_1024.idx'\n",
    "\n",
    "    db=CreateIdx(url=filename,dims=[1440,1440,52],fields=field,time=[1,1024,\"time%00000d/\"],bitmask=\"V0101010120120120120120120101\")\n",
    "    timesteps=[int(it) for it in db.getTimesteps().asVector()]\n",
    "    for t in timesteps:\n",
    "        if t%16==1 and t<1025:\n",
    "            for f in db.getFields():\n",
    "            # print(t)\n",
    "                db.write(data.U[0,:,5760:7200,:].values,field=f,time=t)\n",
    "\n",
    "        "
   ]
  },
  {
   "cell_type": "code",
   "execution_count": null,
   "id": "c28a425e-6824-4e46-aafc-51a16b3c5aab",
   "metadata": {},
   "outputs": [],
   "source": [
    "t=1\n",
    "file_face=5\n",
    "field=[Field('u','float32')]\n",
    "\n",
    "for files in tqdm(raw_files):\n",
    "    file_path=os.path.join(from_dir,files)\n",
    "    data=xr.open_dataset(file_path);\n",
    "    os.chdir('/hdscratch/test/')\n",
    "    filename='face_'+str(file_face)+'_depth_52_time_1024.idx'\n",
    "\n",
    "    db=CreateIdx(url=filename,dims=[1440,1440,52],fields=field,time=[1,1024,\"time%00000d/\"],bitmask=\"V0101010120120120120120120101\")\n",
    "    timesteps=[int(it) for it in db.getTimesteps().asVector()]\n",
    "    for t in timesteps:\n",
    "        if t%16==1 and t<1025:\n",
    "            for f in db.getFields():\n",
    "            # print(t)\n",
    "                db.write(data.U[0,:,7200:8640,:].values,field=f,time=t)\n",
    "\n",
    "\n",
    "        "
   ]
  },
  {
   "cell_type": "code",
   "execution_count": null,
   "id": "77faaf47-dcf0-4bfe-9c52-d3b07088fe80",
   "metadata": {},
   "outputs": [],
   "source": []
  }
 ],
 "metadata": {
  "kernelspec": {
   "display_name": "Python 3",
   "language": "python",
   "name": "python3"
  },
  "language_info": {
   "codemirror_mode": {
    "name": "ipython",
    "version": 3
   },
   "file_extension": ".py",
   "mimetype": "text/x-python",
   "name": "python",
   "nbconvert_exporter": "python",
   "pygments_lexer": "ipython3",
   "version": "3.9.12"
  }
 },
 "nbformat": 4,
 "nbformat_minor": 5
}
